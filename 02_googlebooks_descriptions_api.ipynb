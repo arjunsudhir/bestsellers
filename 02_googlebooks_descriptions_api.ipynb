{
 "cells": [
  {
   "cell_type": "markdown",
   "metadata": {},
   "source": [
    "# Imports"
   ]
  },
  {
   "cell_type": "code",
   "execution_count": 1,
   "metadata": {},
   "outputs": [],
   "source": [
    "import googlebooksconfig\n",
    "import requests\n",
    "import pymongo\n",
    "from pprint import pprint\n",
    "import urllib.parse\n",
    "import time\n",
    "import pickle"
   ]
  },
  {
   "cell_type": "code",
   "execution_count": 2,
   "metadata": {},
   "outputs": [],
   "source": [
    "def log_progress(sequence, every=None, size=None, name='Items'):\n",
    "    from ipywidgets import IntProgress, HTML, VBox\n",
    "    from IPython.display import display\n",
    "\n",
    "    is_iterator = False\n",
    "    if size is None:\n",
    "        try:\n",
    "            size = len(sequence)\n",
    "        except TypeError:\n",
    "            is_iterator = True\n",
    "    if size is not None:\n",
    "        if every is None:\n",
    "            if size <= 200:\n",
    "                every = 1\n",
    "            else:\n",
    "                every = int(size / 200)     # every 0.5%\n",
    "    else:\n",
    "        assert every is not None, 'sequence is iterator, set every'\n",
    "\n",
    "    if is_iterator:\n",
    "        progress = IntProgress(min=0, max=1, value=1)\n",
    "        progress.bar_style = 'info'\n",
    "    else:\n",
    "        progress = IntProgress(min=0, max=size, value=0)\n",
    "    label = HTML()\n",
    "    box = VBox(children=[label, progress])\n",
    "    display(box)\n",
    "\n",
    "    index = 0\n",
    "    try:\n",
    "        for index, record in enumerate(sequence, 1):\n",
    "            if index == 1 or index % every == 0:\n",
    "                if is_iterator:\n",
    "                    label.value = '{name}: {index} / ?'.format(\n",
    "                        name=name,\n",
    "                        index=index\n",
    "                    )\n",
    "                else:\n",
    "                    progress.value = index\n",
    "                    label.value = u'{name}: {index} / {size}'.format(\n",
    "                        name=name,\n",
    "                        index=index,\n",
    "                        size=size\n",
    "                    )\n",
    "            yield record\n",
    "    except:\n",
    "        progress.bar_style = 'danger'\n",
    "        raise\n",
    "    else:\n",
    "        progress.bar_style = 'success'\n",
    "        progress.value = index\n",
    "        label.value = \"{name}: {index}\".format(\n",
    "            name=name,\n",
    "            index=str(index or '?')\n",
    "        )"
   ]
  },
  {
   "cell_type": "markdown",
   "metadata": {},
   "source": [
    "**Hardcover Nonfiction** - DONE"
   ]
  },
  {
   "cell_type": "code",
   "execution_count": 4,
   "metadata": {},
   "outputs": [
    {
     "data": {
      "text/plain": [
       "1766"
      ]
     },
     "execution_count": 4,
     "metadata": {},
     "output_type": "execute_result"
    }
   ],
   "source": [
    "with open('hardcover_nonfiction_isbn13_1766.pkl', 'rb') as f:\n",
    "    hardcover_nonfiction_isbn13 = pickle.load(f)\n",
    "len(hardcover_nonfiction_isbn13)"
   ]
  },
  {
   "cell_type": "markdown",
   "metadata": {},
   "source": [
    "**Paperback Nonfiction** - DONE"
   ]
  },
  {
   "cell_type": "code",
   "execution_count": 4,
   "metadata": {},
   "outputs": [
    {
     "data": {
      "text/plain": [
       "563"
      ]
     },
     "execution_count": 4,
     "metadata": {},
     "output_type": "execute_result"
    }
   ],
   "source": [
    "with open('paperback_nonfiction_isbn13_563.pkl', 'rb') as f:\n",
    "    paperback_nonfiction_isbn13 = pickle.load(f)\n",
    "len(paperback_nonfiction_isbn13)"
   ]
  },
  {
   "cell_type": "markdown",
   "metadata": {},
   "source": [
    "**Advice** - DONE"
   ]
  },
  {
   "cell_type": "code",
   "execution_count": 3,
   "metadata": {},
   "outputs": [
    {
     "data": {
      "text/plain": [
       "1524"
      ]
     },
     "execution_count": 3,
     "metadata": {},
     "output_type": "execute_result"
    }
   ],
   "source": [
    "with open('advice_isbn13_1524.pkl', 'rb') as f:\n",
    "    advice_isbn13 = pickle.load(f)\n",
    "len(advice_isbn13)"
   ]
  },
  {
   "cell_type": "markdown",
   "metadata": {},
   "source": [
    "**Hardcover Fiction, Trade Fiction Paperback, Mass Market Paperback** - DONE"
   ]
  },
  {
   "cell_type": "code",
   "execution_count": 3,
   "metadata": {},
   "outputs": [
    {
     "data": {
      "text/plain": [
       "4976"
      ]
     },
     "execution_count": 3,
     "metadata": {},
     "output_type": "execute_result"
    }
   ],
   "source": [
    "with open('fiction_isbn13_4976.pkl', 'rb') as f:\n",
    "    fiction_isbn13 = pickle.load(f)\n",
    "len(fiction_isbn13)"
   ]
  },
  {
   "cell_type": "markdown",
   "metadata": {},
   "source": [
    "**remaining non-young adult / children's books** - IN PROGRESS"
   ]
  },
  {
   "cell_type": "code",
   "execution_count": 10,
   "metadata": {},
   "outputs": [
    {
     "data": {
      "text/plain": [
       "8322"
      ]
     },
     "execution_count": 10,
     "metadata": {},
     "output_type": "execute_result"
    }
   ],
   "source": [
    "with open('adult_isbn13_8322.pkl', 'rb') as f:\n",
    "    adult_isbn13 = pickle.load(f)\n",
    "len(adult_isbn13)"
   ]
  },
  {
   "cell_type": "markdown",
   "metadata": {},
   "source": [
    "# Google Book Descriptions by ISBN"
   ]
  },
  {
   "cell_type": "code",
   "execution_count": 56,
   "metadata": {},
   "outputs": [],
   "source": [
    "isbn13 = '9780307269621'\n",
    "isbn = 'isbn:' + isbn13\n",
    "base = 'https://www.googleapis.com/books/v1/volumes?'\n",
    "params = {'key': googlebooksconfig.key, 'q': isbn}\n",
    "url = base + urllib.parse.urlencode(params)\n",
    "resp = requests.get(url)"
   ]
  },
  {
   "cell_type": "code",
   "execution_count": 57,
   "metadata": {},
   "outputs": [],
   "source": [
    "status = resp.status_code\n",
    "headers = resp.headers"
   ]
  },
  {
   "cell_type": "code",
   "execution_count": 58,
   "metadata": {},
   "outputs": [
    {
     "data": {
      "text/plain": [
       "200"
      ]
     },
     "execution_count": 58,
     "metadata": {},
     "output_type": "execute_result"
    }
   ],
   "source": [
    "status"
   ]
  },
  {
   "cell_type": "code",
   "execution_count": 59,
   "metadata": {},
   "outputs": [
    {
     "data": {
      "text/plain": [
       "{'X-XSS-Protection': '1; mode=block', 'Alt-Svc': 'hq=\":443\"; ma=2592000; quic=51303431; quic=51303339; quic=51303338; quic=51303337; quic=51303335,quic=\":443\"; ma=2592000; v=\"41,39,38,37,35\"', 'Cache-Control': 'private, max-age=0, must-revalidate, no-transform', 'X-Frame-Options': 'SAMEORIGIN', 'Content-Encoding': 'gzip', 'Date': 'Thu, 01 Mar 2018 23:40:15 GMT', 'Transfer-Encoding': 'chunked', 'Content-Type': 'application/json; charset=UTF-8', 'Server': 'GSE', 'ETag': '\"f6QLsd8inUgRKJVNBqJ8xHnPb0w/FvLL0UAf-t2jthvdgUfvAzXlOMQ\"', 'Vary': 'Origin, X-Origin', 'Expires': 'Thu, 01 Mar 2018 23:40:15 GMT', 'X-Content-Type-Options': 'nosniff'}"
      ]
     },
     "execution_count": 59,
     "metadata": {},
     "output_type": "execute_result"
    }
   ],
   "source": [
    "headers"
   ]
  },
  {
   "cell_type": "code",
   "execution_count": 60,
   "metadata": {},
   "outputs": [
    {
     "data": {
      "text/plain": [
       "dict_keys(['kind', 'items', 'totalItems'])"
      ]
     },
     "execution_count": 60,
     "metadata": {},
     "output_type": "execute_result"
    }
   ],
   "source": [
    "body = resp.json()\n",
    "body.keys()"
   ]
  },
  {
   "cell_type": "code",
   "execution_count": 63,
   "metadata": {},
   "outputs": [
    {
     "name": "stdout",
     "output_type": "stream",
     "text": [
      "{'items': [{'accessInfo': {'accessViewStatus': 'NONE',\n",
      "                           'country': 'US',\n",
      "                           'embeddable': False,\n",
      "                           'epub': {'isAvailable': False},\n",
      "                           'pdf': {'isAvailable': True},\n",
      "                           'publicDomain': False,\n",
      "                           'quoteSharingAllowed': False,\n",
      "                           'textToSpeechPermission': 'ALLOWED',\n",
      "                           'viewability': 'NO_PAGES',\n",
      "                           'webReaderLink': 'http://play.google.com/books/reader?id=SPBPyujwygIC&hl=&printsec=frontcover&source=gbs_api'},\n",
      "            'etag': 'syIE/r1RS8A',\n",
      "            'id': 'SPBPyujwygIC',\n",
      "            'kind': 'books#volume',\n",
      "            'saleInfo': {'country': 'US',\n",
      "                         'isEbook': False,\n",
      "                         'saleability': 'NOT_FOR_SALE'},\n",
      "            'searchInfo': {'textSnippet': 'Presents a narrative profile of the '\n",
      "                                          'second president and his wife that '\n",
      "                                          'traces their more than fifty-year '\n",
      "                                          'partnership in such areas as civic '\n",
      "                                          'and foreign affairs.'},\n",
      "            'selfLink': 'https://www.googleapis.com/books/v1/volumes/SPBPyujwygIC',\n",
      "            'volumeInfo': {'allowAnonLogging': False,\n",
      "                           'authors': ['Joseph J. Ellis'],\n",
      "                           'averageRating': 4.0,\n",
      "                           'canonicalVolumeLink': 'https://books.google.com/books/about/First_Family.html?hl=&id=SPBPyujwygIC',\n",
      "                           'categories': ['Biography & Autobiography'],\n",
      "                           'contentVersion': '1.1.0.0.preview.0',\n",
      "                           'description': 'Presents a narrative profile of the '\n",
      "                                          'second president and his wife that '\n",
      "                                          'traces their more than fifty-year '\n",
      "                                          'partnership in such areas as civic '\n",
      "                                          'and foreign affairs.',\n",
      "                           'imageLinks': {'smallThumbnail': 'http://books.google.com/books/content?id=SPBPyujwygIC&printsec=frontcover&img=1&zoom=5&source=gbs_api',\n",
      "                                          'thumbnail': 'http://books.google.com/books/content?id=SPBPyujwygIC&printsec=frontcover&img=1&zoom=1&source=gbs_api'},\n",
      "                           'industryIdentifiers': [{'identifier': '9780307269621',\n",
      "                                                    'type': 'ISBN_13'},\n",
      "                                                   {'identifier': '0307269620',\n",
      "                                                    'type': 'ISBN_10'}],\n",
      "                           'infoLink': 'http://books.google.com/books?id=SPBPyujwygIC&dq=isbn:9780307269621&hl=&source=gbs_api',\n",
      "                           'language': 'en',\n",
      "                           'maturityRating': 'NOT_MATURE',\n",
      "                           'pageCount': 299,\n",
      "                           'previewLink': 'http://books.google.com/books?id=SPBPyujwygIC&dq=isbn:9780307269621&hl=&cd=1&source=gbs_api',\n",
      "                           'printType': 'BOOK',\n",
      "                           'publishedDate': '2010',\n",
      "                           'publisher': 'Knopf',\n",
      "                           'ratingsCount': 5,\n",
      "                           'readingModes': {'image': False, 'text': False},\n",
      "                           'subtitle': 'Abigail and John',\n",
      "                           'title': 'First Family'}}],\n",
      " 'kind': 'books#volumes',\n",
      " 'totalItems': 1}\n"
     ]
    }
   ],
   "source": [
    "pprint(body)"
   ]
  },
  {
   "cell_type": "code",
   "execution_count": 61,
   "metadata": {},
   "outputs": [
    {
     "data": {
      "text/plain": [
       "{'allowAnonLogging': False,\n",
       " 'authors': ['Joseph J. Ellis'],\n",
       " 'averageRating': 4.0,\n",
       " 'canonicalVolumeLink': 'https://books.google.com/books/about/First_Family.html?hl=&id=SPBPyujwygIC',\n",
       " 'categories': ['Biography & Autobiography'],\n",
       " 'contentVersion': '1.1.0.0.preview.0',\n",
       " 'description': 'Presents a narrative profile of the second president and his wife that traces their more than fifty-year partnership in such areas as civic and foreign affairs.',\n",
       " 'imageLinks': {'smallThumbnail': 'http://books.google.com/books/content?id=SPBPyujwygIC&printsec=frontcover&img=1&zoom=5&source=gbs_api',\n",
       "  'thumbnail': 'http://books.google.com/books/content?id=SPBPyujwygIC&printsec=frontcover&img=1&zoom=1&source=gbs_api'},\n",
       " 'industryIdentifiers': [{'identifier': '9780307269621', 'type': 'ISBN_13'},\n",
       "  {'identifier': '0307269620', 'type': 'ISBN_10'}],\n",
       " 'infoLink': 'http://books.google.com/books?id=SPBPyujwygIC&dq=isbn:9780307269621&hl=&source=gbs_api',\n",
       " 'language': 'en',\n",
       " 'maturityRating': 'NOT_MATURE',\n",
       " 'pageCount': 299,\n",
       " 'previewLink': 'http://books.google.com/books?id=SPBPyujwygIC&dq=isbn:9780307269621&hl=&cd=1&source=gbs_api',\n",
       " 'printType': 'BOOK',\n",
       " 'publishedDate': '2010',\n",
       " 'publisher': 'Knopf',\n",
       " 'ratingsCount': 5,\n",
       " 'readingModes': {'image': False, 'text': False},\n",
       " 'subtitle': 'Abigail and John',\n",
       " 'title': 'First Family'}"
      ]
     },
     "execution_count": 61,
     "metadata": {},
     "output_type": "execute_result"
    }
   ],
   "source": [
    "body['items'][0]['volumeInfo']"
   ]
  },
  {
   "cell_type": "markdown",
   "metadata": {},
   "source": [
    "## MongoDB Connection"
   ]
  },
  {
   "cell_type": "code",
   "execution_count": 4,
   "metadata": {},
   "outputs": [],
   "source": [
    "client = pymongo.MongoClient()\n",
    "db = client.bestsellers_lists\n",
    "descriptions = db.descriptions"
   ]
  },
  {
   "cell_type": "code",
   "execution_count": 5,
   "metadata": {},
   "outputs": [
    {
     "data": {
      "text/plain": [
       "['admin', 'bestsellers_lists', 'config', 'local']"
      ]
     },
     "execution_count": 5,
     "metadata": {},
     "output_type": "execute_result"
    }
   ],
   "source": [
    "client.database_names()"
   ]
  },
  {
   "cell_type": "code",
   "execution_count": 6,
   "metadata": {},
   "outputs": [
    {
     "data": {
      "text/plain": [
       "['weekly_publications', 'descriptions', 'lists']"
      ]
     },
     "execution_count": 6,
     "metadata": {},
     "output_type": "execute_result"
    }
   ],
   "source": [
    "db.collection_names()"
   ]
  },
  {
   "cell_type": "markdown",
   "metadata": {},
   "source": [
    "## Query API"
   ]
  },
  {
   "cell_type": "code",
   "execution_count": 11,
   "metadata": {},
   "outputs": [],
   "source": [
    "def get_descriptions(isbn13_list,start=0,stop=1000,counter=1000):\n",
    "    base = 'https://www.googleapis.com/books/v1/volumes?'\n",
    "    for isbn13 in log_progress(isbn13_list[start:stop], every=1):\n",
    "        isbn = 'isbn:' + isbn13\n",
    "        params = {'key': googlebooksconfig.key, 'q': isbn}\n",
    "        url = base + urllib.parse.urlencode(params)\n",
    "        resp = requests.get(url)\n",
    "        status = resp.status_code\n",
    "        counter -= 1\n",
    "        if status == 200:\n",
    "            volume_info = resp.json()\n",
    "            if volume_info['totalItems'] > 0:\n",
    "                for volume in volume_info['items']:\n",
    "                    book_result = db.descriptions.insert_one(volume['volumeInfo'])\n",
    "                    book_id = book_result.inserted_id\n",
    "                    isbn13_result = db.descriptions.update_one({'_id': book_id }, {'$set': {'nyt_isbn13': isbn13}})\n",
    "                    print('Successfully Retrieved: {} Rate Left: {}'.format(isbn13,counter))\n",
    "            else:\n",
    "                print('No Volume Found: {} Rate Left: {}'.format(isbn13,counter))\n",
    "        else:\n",
    "            print('FAILED Status: {} Tried Retrieving: {}'.format(status,isbn13))\n",
    "        #time.sleep(0.5)\n",
    "    return 'All done!'"
   ]
  },
  {
   "cell_type": "code",
   "execution_count": 17,
   "metadata": {
    "scrolled": true
   },
   "outputs": [
    {
     "data": {
      "application/vnd.jupyter.widget-view+json": {
       "model_id": "3b2069bcbb3341c6820ed14f794cfbde",
       "version_major": 2,
       "version_minor": 0
      },
      "text/html": [
       "<p>Failed to display Jupyter Widget of type <code>VBox</code>.</p>\n",
       "<p>\n",
       "  If you're reading this message in the Jupyter Notebook or JupyterLab Notebook, it may mean\n",
       "  that the widgets JavaScript is still loading. If this message persists, it\n",
       "  likely means that the widgets JavaScript library is either not installed or\n",
       "  not enabled. See the <a href=\"https://ipywidgets.readthedocs.io/en/stable/user_install.html\">Jupyter\n",
       "  Widgets Documentation</a> for setup instructions.\n",
       "</p>\n",
       "<p>\n",
       "  If you're reading this message in another frontend (for example, a static\n",
       "  rendering on GitHub or <a href=\"https://nbviewer.jupyter.org/\">NBViewer</a>),\n",
       "  it may mean that your frontend doesn't currently support widgets.\n",
       "</p>\n"
      ],
      "text/plain": [
       "VBox(children=(HTML(value=''), IntProgress(value=0, max=91)))"
      ]
     },
     "metadata": {},
     "output_type": "display_data"
    },
    {
     "name": "stdout",
     "output_type": "stream",
     "text": [
      "No Volume Found: 9780785153061 Rate Left: 90\n",
      "FAILED Status: 403 Tried Retrieving: 9780316504836\n",
      "FAILED Status: 403 Tried Retrieving: 9781451673302\n",
      "FAILED Status: 403 Tried Retrieving: 9781101874288\n",
      "FAILED Status: 403 Tried Retrieving: 9780385531399\n",
      "FAILED Status: 403 Tried Retrieving: 9780062390806\n",
      "FAILED Status: 403 Tried Retrieving: 9781401233594\n",
      "FAILED Status: 403 Tried Retrieving: 9780525953098\n",
      "FAILED Status: 403 Tried Retrieving: 9781401237554\n",
      "FAILED Status: 403 Tried Retrieving: 9780983987536\n",
      "FAILED Status: 403 Tried Retrieving: 9781606902042\n",
      "FAILED Status: 403 Tried Retrieving: 9781439177327\n",
      "FAILED Status: 403 Tried Retrieving: 9780316261128\n",
      "FAILED Status: 403 Tried Retrieving: 9781616555504\n",
      "FAILED Status: 403 Tried Retrieving: 9781400068418\n",
      "FAILED Status: 403 Tried Retrieving: 9780698163454\n",
      "FAILED Status: 403 Tried Retrieving: 9780385537353\n",
      "FAILED Status: 403 Tried Retrieving: A00B01FR7DBL0\n",
      "FAILED Status: 403 Tried Retrieving: 9780062081926\n",
      "FAILED Status: 403 Tried Retrieving: 9780698403871\n",
      "FAILED Status: 403 Tried Retrieving: 9781451649963\n",
      "FAILED Status: 403 Tried Retrieving: 9781617732171\n",
      "FAILED Status: 403 Tried Retrieving: 9781451621396\n",
      "FAILED Status: 403 Tried Retrieving: 9781101604915\n",
      "FAILED Status: 403 Tried Retrieving: 9780307267672\n",
      "FAILED Status: 403 Tried Retrieving: 9781616554088\n",
      "FAILED Status: 403 Tried Retrieving: 9780062681768\n",
      "FAILED Status: 403 Tried Retrieving: 9780316057776\n",
      "FAILED Status: 403 Tried Retrieving: 9780062074959\n",
      "FAILED Status: 403 Tried Retrieving: 9780804138147\n",
      "FAILED Status: 403 Tried Retrieving: 9781401238445\n",
      "FAILED Status: 403 Tried Retrieving: 9780062016591\n",
      "FAILED Status: 403 Tried Retrieving: 9780312603045\n",
      "FAILED Status: 403 Tried Retrieving: 9781616559557\n",
      "FAILED Status: 403 Tried Retrieving: 9781414373980\n",
      "FAILED Status: 403 Tried Retrieving: 9781476756561\n",
      "FAILED Status: 403 Tried Retrieving: 9781420128444\n",
      "FAILED Status: 403 Tried Retrieving: 9780306823060\n",
      "FAILED Status: 403 Tried Retrieving: 9781501160783\n",
      "FAILED Status: 403 Tried Retrieving: 9781401234614\n",
      "FAILED Status: 403 Tried Retrieving: 9780778313694\n",
      "FAILED Status: 403 Tried Retrieving: 9781101991770\n",
      "FAILED Status: 403 Tried Retrieving: 9780375507250\n",
      "FAILED Status: 403 Tried Retrieving: 9780553375930\n",
      "FAILED Status: 403 Tried Retrieving: 9780312642976\n",
      "FAILED Status: 403 Tried Retrieving: 9781782761334\n",
      "FAILED Status: 403 Tried Retrieving: 9781402261084\n",
      "FAILED Status: 403 Tried Retrieving: 9780307454546\n",
      "FAILED Status: 403 Tried Retrieving: 9780804139229\n",
      "FAILED Status: 403 Tried Retrieving: 9780061743177\n",
      "FAILED Status: 403 Tried Retrieving: 9781101202951\n",
      "FAILED Status: 403 Tried Retrieving: 9781594634024\n",
      "FAILED Status: 403 Tried Retrieving: 9780785166801\n",
      "FAILED Status: 403 Tried Retrieving: 9780525952251\n",
      "FAILED Status: 403 Tried Retrieving: 9780385352550\n",
      "FAILED Status: 403 Tried Retrieving: 9781455556564\n",
      "FAILED Status: 403 Tried Retrieving: 9781492649366\n",
      "FAILED Status: 403 Tried Retrieving: 9781947222120\n",
      "FAILED Status: 403 Tried Retrieving: 9780061957895\n",
      "FAILED Status: 403 Tried Retrieving: 9781401238940\n",
      "FAILED Status: 403 Tried Retrieving: 9781592911301\n",
      "FAILED Status: 403 Tried Retrieving: 9780062133434\n"
     ]
    },
    {
     "ename": "KeyboardInterrupt",
     "evalue": "",
     "output_type": "error",
     "traceback": [
      "\u001b[0;31m---------------------------------------------------------------------------\u001b[0m",
      "\u001b[0;31mKeyboardInterrupt\u001b[0m                         Traceback (most recent call last)",
      "\u001b[0;32m<ipython-input-17-dac772eea575>\u001b[0m in \u001b[0;36m<module>\u001b[0;34m()\u001b[0m\n\u001b[0;32m----> 1\u001b[0;31m \u001b[0mget_descriptions\u001b[0m\u001b[0;34m(\u001b[0m\u001b[0madult_isbn13\u001b[0m\u001b[0;34m,\u001b[0m\u001b[0;36m141\u001b[0m\u001b[0;34m,\u001b[0m\u001b[0;36m232\u001b[0m\u001b[0;34m,\u001b[0m\u001b[0;36m91\u001b[0m\u001b[0;34m)\u001b[0m\u001b[0;34m\u001b[0m\u001b[0m\n\u001b[0m",
      "\u001b[0;32m<ipython-input-11-d98059cd0736>\u001b[0m in \u001b[0;36mget_descriptions\u001b[0;34m(isbn13_list, start, stop, counter)\u001b[0m\n\u001b[1;32m      5\u001b[0m         \u001b[0mparams\u001b[0m \u001b[0;34m=\u001b[0m \u001b[0;34m{\u001b[0m\u001b[0;34m'key'\u001b[0m\u001b[0;34m:\u001b[0m \u001b[0mgooglebooksconfig\u001b[0m\u001b[0;34m.\u001b[0m\u001b[0mkey\u001b[0m\u001b[0;34m,\u001b[0m \u001b[0;34m'q'\u001b[0m\u001b[0;34m:\u001b[0m \u001b[0misbn\u001b[0m\u001b[0;34m}\u001b[0m\u001b[0;34m\u001b[0m\u001b[0m\n\u001b[1;32m      6\u001b[0m         \u001b[0murl\u001b[0m \u001b[0;34m=\u001b[0m \u001b[0mbase\u001b[0m \u001b[0;34m+\u001b[0m \u001b[0murllib\u001b[0m\u001b[0;34m.\u001b[0m\u001b[0mparse\u001b[0m\u001b[0;34m.\u001b[0m\u001b[0murlencode\u001b[0m\u001b[0;34m(\u001b[0m\u001b[0mparams\u001b[0m\u001b[0;34m)\u001b[0m\u001b[0;34m\u001b[0m\u001b[0m\n\u001b[0;32m----> 7\u001b[0;31m         \u001b[0mresp\u001b[0m \u001b[0;34m=\u001b[0m \u001b[0mrequests\u001b[0m\u001b[0;34m.\u001b[0m\u001b[0mget\u001b[0m\u001b[0;34m(\u001b[0m\u001b[0murl\u001b[0m\u001b[0;34m)\u001b[0m\u001b[0;34m\u001b[0m\u001b[0m\n\u001b[0m\u001b[1;32m      8\u001b[0m         \u001b[0mstatus\u001b[0m \u001b[0;34m=\u001b[0m \u001b[0mresp\u001b[0m\u001b[0;34m.\u001b[0m\u001b[0mstatus_code\u001b[0m\u001b[0;34m\u001b[0m\u001b[0m\n\u001b[1;32m      9\u001b[0m         \u001b[0mcounter\u001b[0m \u001b[0;34m-=\u001b[0m \u001b[0;36m1\u001b[0m\u001b[0;34m\u001b[0m\u001b[0m\n",
      "\u001b[0;32m~/anaconda/lib/python3.5/site-packages/requests/api.py\u001b[0m in \u001b[0;36mget\u001b[0;34m(url, params, **kwargs)\u001b[0m\n\u001b[1;32m     70\u001b[0m \u001b[0;34m\u001b[0m\u001b[0m\n\u001b[1;32m     71\u001b[0m     \u001b[0mkwargs\u001b[0m\u001b[0;34m.\u001b[0m\u001b[0msetdefault\u001b[0m\u001b[0;34m(\u001b[0m\u001b[0;34m'allow_redirects'\u001b[0m\u001b[0;34m,\u001b[0m \u001b[0;32mTrue\u001b[0m\u001b[0;34m)\u001b[0m\u001b[0;34m\u001b[0m\u001b[0m\n\u001b[0;32m---> 72\u001b[0;31m     \u001b[0;32mreturn\u001b[0m \u001b[0mrequest\u001b[0m\u001b[0;34m(\u001b[0m\u001b[0;34m'get'\u001b[0m\u001b[0;34m,\u001b[0m \u001b[0murl\u001b[0m\u001b[0;34m,\u001b[0m \u001b[0mparams\u001b[0m\u001b[0;34m=\u001b[0m\u001b[0mparams\u001b[0m\u001b[0;34m,\u001b[0m \u001b[0;34m**\u001b[0m\u001b[0mkwargs\u001b[0m\u001b[0;34m)\u001b[0m\u001b[0;34m\u001b[0m\u001b[0m\n\u001b[0m\u001b[1;32m     73\u001b[0m \u001b[0;34m\u001b[0m\u001b[0m\n\u001b[1;32m     74\u001b[0m \u001b[0;34m\u001b[0m\u001b[0m\n",
      "\u001b[0;32m~/anaconda/lib/python3.5/site-packages/requests/api.py\u001b[0m in \u001b[0;36mrequest\u001b[0;34m(method, url, **kwargs)\u001b[0m\n\u001b[1;32m     56\u001b[0m     \u001b[0;31m# cases, and look like a memory leak in others.\u001b[0m\u001b[0;34m\u001b[0m\u001b[0;34m\u001b[0m\u001b[0m\n\u001b[1;32m     57\u001b[0m     \u001b[0;32mwith\u001b[0m \u001b[0msessions\u001b[0m\u001b[0;34m.\u001b[0m\u001b[0mSession\u001b[0m\u001b[0;34m(\u001b[0m\u001b[0;34m)\u001b[0m \u001b[0;32mas\u001b[0m \u001b[0msession\u001b[0m\u001b[0;34m:\u001b[0m\u001b[0;34m\u001b[0m\u001b[0m\n\u001b[0;32m---> 58\u001b[0;31m         \u001b[0;32mreturn\u001b[0m \u001b[0msession\u001b[0m\u001b[0;34m.\u001b[0m\u001b[0mrequest\u001b[0m\u001b[0;34m(\u001b[0m\u001b[0mmethod\u001b[0m\u001b[0;34m=\u001b[0m\u001b[0mmethod\u001b[0m\u001b[0;34m,\u001b[0m \u001b[0murl\u001b[0m\u001b[0;34m=\u001b[0m\u001b[0murl\u001b[0m\u001b[0;34m,\u001b[0m \u001b[0;34m**\u001b[0m\u001b[0mkwargs\u001b[0m\u001b[0;34m)\u001b[0m\u001b[0;34m\u001b[0m\u001b[0m\n\u001b[0m\u001b[1;32m     59\u001b[0m \u001b[0;34m\u001b[0m\u001b[0m\n\u001b[1;32m     60\u001b[0m \u001b[0;34m\u001b[0m\u001b[0m\n",
      "\u001b[0;32m~/anaconda/lib/python3.5/site-packages/requests/sessions.py\u001b[0m in \u001b[0;36mrequest\u001b[0;34m(self, method, url, params, data, headers, cookies, files, auth, timeout, allow_redirects, proxies, hooks, stream, verify, cert, json)\u001b[0m\n\u001b[1;32m    506\u001b[0m         }\n\u001b[1;32m    507\u001b[0m         \u001b[0msend_kwargs\u001b[0m\u001b[0;34m.\u001b[0m\u001b[0mupdate\u001b[0m\u001b[0;34m(\u001b[0m\u001b[0msettings\u001b[0m\u001b[0;34m)\u001b[0m\u001b[0;34m\u001b[0m\u001b[0m\n\u001b[0;32m--> 508\u001b[0;31m         \u001b[0mresp\u001b[0m \u001b[0;34m=\u001b[0m \u001b[0mself\u001b[0m\u001b[0;34m.\u001b[0m\u001b[0msend\u001b[0m\u001b[0;34m(\u001b[0m\u001b[0mprep\u001b[0m\u001b[0;34m,\u001b[0m \u001b[0;34m**\u001b[0m\u001b[0msend_kwargs\u001b[0m\u001b[0;34m)\u001b[0m\u001b[0;34m\u001b[0m\u001b[0m\n\u001b[0m\u001b[1;32m    509\u001b[0m \u001b[0;34m\u001b[0m\u001b[0m\n\u001b[1;32m    510\u001b[0m         \u001b[0;32mreturn\u001b[0m \u001b[0mresp\u001b[0m\u001b[0;34m\u001b[0m\u001b[0m\n",
      "\u001b[0;32m~/anaconda/lib/python3.5/site-packages/requests/sessions.py\u001b[0m in \u001b[0;36msend\u001b[0;34m(self, request, **kwargs)\u001b[0m\n\u001b[1;32m    616\u001b[0m \u001b[0;34m\u001b[0m\u001b[0m\n\u001b[1;32m    617\u001b[0m         \u001b[0;31m# Send the request\u001b[0m\u001b[0;34m\u001b[0m\u001b[0;34m\u001b[0m\u001b[0m\n\u001b[0;32m--> 618\u001b[0;31m         \u001b[0mr\u001b[0m \u001b[0;34m=\u001b[0m \u001b[0madapter\u001b[0m\u001b[0;34m.\u001b[0m\u001b[0msend\u001b[0m\u001b[0;34m(\u001b[0m\u001b[0mrequest\u001b[0m\u001b[0;34m,\u001b[0m \u001b[0;34m**\u001b[0m\u001b[0mkwargs\u001b[0m\u001b[0;34m)\u001b[0m\u001b[0;34m\u001b[0m\u001b[0m\n\u001b[0m\u001b[1;32m    619\u001b[0m \u001b[0;34m\u001b[0m\u001b[0m\n\u001b[1;32m    620\u001b[0m         \u001b[0;31m# Total elapsed time of the request (approximately)\u001b[0m\u001b[0;34m\u001b[0m\u001b[0;34m\u001b[0m\u001b[0m\n",
      "\u001b[0;32m~/anaconda/lib/python3.5/site-packages/requests/adapters.py\u001b[0m in \u001b[0;36msend\u001b[0;34m(self, request, stream, timeout, verify, cert, proxies)\u001b[0m\n\u001b[1;32m    438\u001b[0m                     \u001b[0mdecode_content\u001b[0m\u001b[0;34m=\u001b[0m\u001b[0;32mFalse\u001b[0m\u001b[0;34m,\u001b[0m\u001b[0;34m\u001b[0m\u001b[0m\n\u001b[1;32m    439\u001b[0m                     \u001b[0mretries\u001b[0m\u001b[0;34m=\u001b[0m\u001b[0mself\u001b[0m\u001b[0;34m.\u001b[0m\u001b[0mmax_retries\u001b[0m\u001b[0;34m,\u001b[0m\u001b[0;34m\u001b[0m\u001b[0m\n\u001b[0;32m--> 440\u001b[0;31m                     \u001b[0mtimeout\u001b[0m\u001b[0;34m=\u001b[0m\u001b[0mtimeout\u001b[0m\u001b[0;34m\u001b[0m\u001b[0m\n\u001b[0m\u001b[1;32m    441\u001b[0m                 )\n\u001b[1;32m    442\u001b[0m \u001b[0;34m\u001b[0m\u001b[0m\n",
      "\u001b[0;32m~/anaconda/lib/python3.5/site-packages/urllib3/connectionpool.py\u001b[0m in \u001b[0;36murlopen\u001b[0;34m(self, method, url, body, headers, retries, redirect, assert_same_host, timeout, pool_timeout, release_conn, chunked, body_pos, **response_kw)\u001b[0m\n\u001b[1;32m    599\u001b[0m                                                   \u001b[0mtimeout\u001b[0m\u001b[0;34m=\u001b[0m\u001b[0mtimeout_obj\u001b[0m\u001b[0;34m,\u001b[0m\u001b[0;34m\u001b[0m\u001b[0m\n\u001b[1;32m    600\u001b[0m                                                   \u001b[0mbody\u001b[0m\u001b[0;34m=\u001b[0m\u001b[0mbody\u001b[0m\u001b[0;34m,\u001b[0m \u001b[0mheaders\u001b[0m\u001b[0;34m=\u001b[0m\u001b[0mheaders\u001b[0m\u001b[0;34m,\u001b[0m\u001b[0;34m\u001b[0m\u001b[0m\n\u001b[0;32m--> 601\u001b[0;31m                                                   chunked=chunked)\n\u001b[0m\u001b[1;32m    602\u001b[0m \u001b[0;34m\u001b[0m\u001b[0m\n\u001b[1;32m    603\u001b[0m             \u001b[0;31m# If we're going to release the connection in ``finally:``, then\u001b[0m\u001b[0;34m\u001b[0m\u001b[0;34m\u001b[0m\u001b[0m\n",
      "\u001b[0;32m~/anaconda/lib/python3.5/site-packages/urllib3/connectionpool.py\u001b[0m in \u001b[0;36m_make_request\u001b[0;34m(self, conn, method, url, timeout, chunked, **httplib_request_kw)\u001b[0m\n\u001b[1;32m    344\u001b[0m         \u001b[0;31m# Trigger any extra validation we need to do.\u001b[0m\u001b[0;34m\u001b[0m\u001b[0;34m\u001b[0m\u001b[0m\n\u001b[1;32m    345\u001b[0m         \u001b[0;32mtry\u001b[0m\u001b[0;34m:\u001b[0m\u001b[0;34m\u001b[0m\u001b[0m\n\u001b[0;32m--> 346\u001b[0;31m             \u001b[0mself\u001b[0m\u001b[0;34m.\u001b[0m\u001b[0m_validate_conn\u001b[0m\u001b[0;34m(\u001b[0m\u001b[0mconn\u001b[0m\u001b[0;34m)\u001b[0m\u001b[0;34m\u001b[0m\u001b[0m\n\u001b[0m\u001b[1;32m    347\u001b[0m         \u001b[0;32mexcept\u001b[0m \u001b[0;34m(\u001b[0m\u001b[0mSocketTimeout\u001b[0m\u001b[0;34m,\u001b[0m \u001b[0mBaseSSLError\u001b[0m\u001b[0;34m)\u001b[0m \u001b[0;32mas\u001b[0m \u001b[0me\u001b[0m\u001b[0;34m:\u001b[0m\u001b[0;34m\u001b[0m\u001b[0m\n\u001b[1;32m    348\u001b[0m             \u001b[0;31m# Py2 raises this as a BaseSSLError, Py3 raises it as socket timeout.\u001b[0m\u001b[0;34m\u001b[0m\u001b[0;34m\u001b[0m\u001b[0m\n",
      "\u001b[0;32m~/anaconda/lib/python3.5/site-packages/urllib3/connectionpool.py\u001b[0m in \u001b[0;36m_validate_conn\u001b[0;34m(self, conn)\u001b[0m\n\u001b[1;32m    848\u001b[0m         \u001b[0;31m# Force connect early to allow us to validate the connection.\u001b[0m\u001b[0;34m\u001b[0m\u001b[0;34m\u001b[0m\u001b[0m\n\u001b[1;32m    849\u001b[0m         \u001b[0;32mif\u001b[0m \u001b[0;32mnot\u001b[0m \u001b[0mgetattr\u001b[0m\u001b[0;34m(\u001b[0m\u001b[0mconn\u001b[0m\u001b[0;34m,\u001b[0m \u001b[0;34m'sock'\u001b[0m\u001b[0;34m,\u001b[0m \u001b[0;32mNone\u001b[0m\u001b[0;34m)\u001b[0m\u001b[0;34m:\u001b[0m  \u001b[0;31m# AppEngine might not have  `.sock`\u001b[0m\u001b[0;34m\u001b[0m\u001b[0m\n\u001b[0;32m--> 850\u001b[0;31m             \u001b[0mconn\u001b[0m\u001b[0;34m.\u001b[0m\u001b[0mconnect\u001b[0m\u001b[0;34m(\u001b[0m\u001b[0;34m)\u001b[0m\u001b[0;34m\u001b[0m\u001b[0m\n\u001b[0m\u001b[1;32m    851\u001b[0m \u001b[0;34m\u001b[0m\u001b[0m\n\u001b[1;32m    852\u001b[0m         \u001b[0;32mif\u001b[0m \u001b[0;32mnot\u001b[0m \u001b[0mconn\u001b[0m\u001b[0;34m.\u001b[0m\u001b[0mis_verified\u001b[0m\u001b[0;34m:\u001b[0m\u001b[0;34m\u001b[0m\u001b[0m\n",
      "\u001b[0;32m~/anaconda/lib/python3.5/site-packages/urllib3/connection.py\u001b[0m in \u001b[0;36mconnect\u001b[0;34m(self)\u001b[0m\n\u001b[1;32m    324\u001b[0m             \u001b[0mca_cert_dir\u001b[0m\u001b[0;34m=\u001b[0m\u001b[0mself\u001b[0m\u001b[0;34m.\u001b[0m\u001b[0mca_cert_dir\u001b[0m\u001b[0;34m,\u001b[0m\u001b[0;34m\u001b[0m\u001b[0m\n\u001b[1;32m    325\u001b[0m             \u001b[0mserver_hostname\u001b[0m\u001b[0;34m=\u001b[0m\u001b[0mhostname\u001b[0m\u001b[0;34m,\u001b[0m\u001b[0;34m\u001b[0m\u001b[0m\n\u001b[0;32m--> 326\u001b[0;31m             ssl_context=context)\n\u001b[0m\u001b[1;32m    327\u001b[0m \u001b[0;34m\u001b[0m\u001b[0m\n\u001b[1;32m    328\u001b[0m         \u001b[0;32mif\u001b[0m \u001b[0mself\u001b[0m\u001b[0;34m.\u001b[0m\u001b[0massert_fingerprint\u001b[0m\u001b[0;34m:\u001b[0m\u001b[0;34m\u001b[0m\u001b[0m\n",
      "\u001b[0;32m~/anaconda/lib/python3.5/site-packages/urllib3/util/ssl_.py\u001b[0m in \u001b[0;36mssl_wrap_socket\u001b[0;34m(sock, keyfile, certfile, cert_reqs, ca_certs, server_hostname, ssl_version, ciphers, ssl_context, ca_cert_dir)\u001b[0m\n\u001b[1;32m    327\u001b[0m         \u001b[0mcontext\u001b[0m\u001b[0;34m.\u001b[0m\u001b[0mload_cert_chain\u001b[0m\u001b[0;34m(\u001b[0m\u001b[0mcertfile\u001b[0m\u001b[0;34m,\u001b[0m \u001b[0mkeyfile\u001b[0m\u001b[0;34m)\u001b[0m\u001b[0;34m\u001b[0m\u001b[0m\n\u001b[1;32m    328\u001b[0m     \u001b[0;32mif\u001b[0m \u001b[0mHAS_SNI\u001b[0m\u001b[0;34m:\u001b[0m  \u001b[0;31m# Platform-specific: OpenSSL with enabled SNI\u001b[0m\u001b[0;34m\u001b[0m\u001b[0m\n\u001b[0;32m--> 329\u001b[0;31m         \u001b[0;32mreturn\u001b[0m \u001b[0mcontext\u001b[0m\u001b[0;34m.\u001b[0m\u001b[0mwrap_socket\u001b[0m\u001b[0;34m(\u001b[0m\u001b[0msock\u001b[0m\u001b[0;34m,\u001b[0m \u001b[0mserver_hostname\u001b[0m\u001b[0;34m=\u001b[0m\u001b[0mserver_hostname\u001b[0m\u001b[0;34m)\u001b[0m\u001b[0;34m\u001b[0m\u001b[0m\n\u001b[0m\u001b[1;32m    330\u001b[0m \u001b[0;34m\u001b[0m\u001b[0m\n\u001b[1;32m    331\u001b[0m     warnings.warn(\n",
      "\u001b[0;32m~/anaconda/lib/python3.5/site-packages/urllib3/contrib/pyopenssl.py\u001b[0m in \u001b[0;36mwrap_socket\u001b[0;34m(self, sock, server_side, do_handshake_on_connect, suppress_ragged_eofs, server_hostname)\u001b[0m\n\u001b[1;32m    439\u001b[0m         \u001b[0;32mwhile\u001b[0m \u001b[0;32mTrue\u001b[0m\u001b[0;34m:\u001b[0m\u001b[0;34m\u001b[0m\u001b[0m\n\u001b[1;32m    440\u001b[0m             \u001b[0;32mtry\u001b[0m\u001b[0;34m:\u001b[0m\u001b[0;34m\u001b[0m\u001b[0m\n\u001b[0;32m--> 441\u001b[0;31m                 \u001b[0mcnx\u001b[0m\u001b[0;34m.\u001b[0m\u001b[0mdo_handshake\u001b[0m\u001b[0;34m(\u001b[0m\u001b[0;34m)\u001b[0m\u001b[0;34m\u001b[0m\u001b[0m\n\u001b[0m\u001b[1;32m    442\u001b[0m             \u001b[0;32mexcept\u001b[0m \u001b[0mOpenSSL\u001b[0m\u001b[0;34m.\u001b[0m\u001b[0mSSL\u001b[0m\u001b[0;34m.\u001b[0m\u001b[0mWantReadError\u001b[0m\u001b[0;34m:\u001b[0m\u001b[0;34m\u001b[0m\u001b[0m\n\u001b[1;32m    443\u001b[0m                 \u001b[0mrd\u001b[0m \u001b[0;34m=\u001b[0m \u001b[0mutil\u001b[0m\u001b[0;34m.\u001b[0m\u001b[0mwait_for_read\u001b[0m\u001b[0;34m(\u001b[0m\u001b[0msock\u001b[0m\u001b[0;34m,\u001b[0m \u001b[0msock\u001b[0m\u001b[0;34m.\u001b[0m\u001b[0mgettimeout\u001b[0m\u001b[0;34m(\u001b[0m\u001b[0;34m)\u001b[0m\u001b[0;34m)\u001b[0m\u001b[0;34m\u001b[0m\u001b[0m\n",
      "\u001b[0;32m~/anaconda/lib/python3.5/site-packages/OpenSSL/SSL.py\u001b[0m in \u001b[0;36mdo_handshake\u001b[0;34m(self)\u001b[0m\n\u001b[1;32m   1803\u001b[0m         \u001b[0;34m:\u001b[0m\u001b[0;32mreturn\u001b[0m\u001b[0;34m:\u001b[0m \u001b[0;32mNone\u001b[0m\u001b[0;34m.\u001b[0m\u001b[0;34m\u001b[0m\u001b[0m\n\u001b[1;32m   1804\u001b[0m         \"\"\"\n\u001b[0;32m-> 1805\u001b[0;31m         \u001b[0mresult\u001b[0m \u001b[0;34m=\u001b[0m \u001b[0m_lib\u001b[0m\u001b[0;34m.\u001b[0m\u001b[0mSSL_do_handshake\u001b[0m\u001b[0;34m(\u001b[0m\u001b[0mself\u001b[0m\u001b[0;34m.\u001b[0m\u001b[0m_ssl\u001b[0m\u001b[0;34m)\u001b[0m\u001b[0;34m\u001b[0m\u001b[0m\n\u001b[0m\u001b[1;32m   1806\u001b[0m         \u001b[0mself\u001b[0m\u001b[0;34m.\u001b[0m\u001b[0m_raise_ssl_error\u001b[0m\u001b[0;34m(\u001b[0m\u001b[0mself\u001b[0m\u001b[0;34m.\u001b[0m\u001b[0m_ssl\u001b[0m\u001b[0;34m,\u001b[0m \u001b[0mresult\u001b[0m\u001b[0;34m)\u001b[0m\u001b[0;34m\u001b[0m\u001b[0m\n\u001b[1;32m   1807\u001b[0m \u001b[0;34m\u001b[0m\u001b[0m\n",
      "\u001b[0;31mKeyboardInterrupt\u001b[0m: "
     ]
    }
   ],
   "source": [
    "get_descriptions(adult_isbn13,142,1142,1000) # <-- values are already set for running on March 9th"
   ]
  },
  {
   "cell_type": "code",
   "execution_count": 16,
   "metadata": {},
   "outputs": [
    {
     "data": {
      "text/plain": [
       "8322"
      ]
     },
     "execution_count": 16,
     "metadata": {},
     "output_type": "execute_result"
    }
   ],
   "source": [
    "len(adult_isbn13)"
   ]
  },
  {
   "cell_type": "code",
   "execution_count": 18,
   "metadata": {},
   "outputs": [
    {
     "data": {
      "text/plain": [
       "7203"
      ]
     },
     "execution_count": 18,
     "metadata": {},
     "output_type": "execute_result"
    }
   ],
   "source": [
    "# total books loaded into mongo collection\n",
    "descriptions.count()"
   ]
  },
  {
   "cell_type": "code",
   "execution_count": 19,
   "metadata": {},
   "outputs": [
    {
     "data": {
      "text/plain": [
       "7063"
      ]
     },
     "execution_count": 19,
     "metadata": {},
     "output_type": "execute_result"
    }
   ],
   "source": [
    "# books with ISBNs (industry identifiers)\n",
    "descriptions.find({'industryIdentifiers': {'$nin': [None,'']}}).count()"
   ]
  },
  {
   "cell_type": "code",
   "execution_count": 20,
   "metadata": {},
   "outputs": [
    {
     "data": {
      "text/plain": [
       "140"
      ]
     },
     "execution_count": 20,
     "metadata": {},
     "output_type": "execute_result"
    }
   ],
   "source": [
    "# books without ISBNs\n",
    "descriptions.find({'industryIdentifiers': {'$in': [None,'']}}).count()"
   ]
  },
  {
   "cell_type": "code",
   "execution_count": 19,
   "metadata": {},
   "outputs": [
    {
     "name": "stdout",
     "output_type": "stream",
     "text": [
      "\n",
      "-----[ 1 ]-----\n",
      "\n",
      "{'_id': ObjectId('5a97a1da4f61b6966baa0888'),\n",
      " 'allowAnonLogging': False,\n",
      " 'authors': ['Bruce Schneier'],\n",
      " 'averageRating': 4.0,\n",
      " 'canonicalVolumeLink': 'https://books.google.com/books/about/Data_and_Goliath.html?hl=&id=_grPBgAAQBAJ',\n",
      " 'categories': ['Computers'],\n",
      " 'contentVersion': 'preview-1.0.0',\n",
      " 'description': 'You are under surveillance right now. Your cell phone '\n",
      "                'provider tracks your location and knows who’s with you. Your '\n",
      "                'online and in-store purchasing patterns are recorded, and '\n",
      "                \"reveal if you're unemployed, sick, or pregnant. Your e-mails \"\n",
      "                'and texts expose your intimate and casual friends. Google '\n",
      "                'knows what you’re thinking because it saves your private '\n",
      "                'searches. Facebook can determine your sexual orientation '\n",
      "                'without you ever mentioning it. The powers that surveil us do '\n",
      "                'more than simply store this information. Corporations use '\n",
      "                'surveillance to manipulate not only the news articles and '\n",
      "                'advertisements we each see, but also the prices we’re '\n",
      "                'offered. Governments use surveillance to discriminate, '\n",
      "                'censor, chill free speech, and put people in danger '\n",
      "                'worldwide. And both sides share this information with each '\n",
      "                'other or, even worse, lose it to cybercriminals in huge data '\n",
      "                'breaches. Much of this is voluntary: we cooperate with '\n",
      "                'corporate surveillance because it promises us convenience, '\n",
      "                'and we submit to government surveillance because it promises '\n",
      "                'us protection. The result is a mass surveillance society of '\n",
      "                'our own making. But have we given up more than we’ve gained? '\n",
      "                'In Data and Goliath, security expert Bruce Schneier offers '\n",
      "                'another path, one that values both security and privacy. He '\n",
      "                'shows us exactly what we can do to reform our government '\n",
      "                'surveillance programs and shake up surveillance-based '\n",
      "                'business models, while also providing tips for you to protect '\n",
      "                \"your privacy every day. You'll never look at your phone, your \"\n",
      "                'computer, your credit cards, or even your car in the same way '\n",
      "                'again.',\n",
      " 'imageLinks': {'smallThumbnail': 'http://books.google.com/books/content?id=_grPBgAAQBAJ&printsec=frontcover&img=1&zoom=5&source=gbs_api',\n",
      "                'thumbnail': 'http://books.google.com/books/content?id=_grPBgAAQBAJ&printsec=frontcover&img=1&zoom=1&source=gbs_api'},\n",
      " 'infoLink': 'http://books.google.com/books?id=_grPBgAAQBAJ&dq=isbn:9780393244816&hl=&source=gbs_api',\n",
      " 'language': 'en',\n",
      " 'maturityRating': 'NOT_MATURE',\n",
      " 'pageCount': 383,\n",
      " 'previewLink': 'http://books.google.com/books?id=_grPBgAAQBAJ&dq=isbn:9780393244816&hl=&cd=1&source=gbs_api',\n",
      " 'printType': 'BOOK',\n",
      " 'publishedDate': '2015-03-02',\n",
      " 'publisher': 'W. W. Norton & Company',\n",
      " 'ratingsCount': 4,\n",
      " 'readingModes': {'image': False, 'text': True},\n",
      " 'subtitle': 'The Hidden Battles to Collect Your Data and Control Your World',\n",
      " 'title': 'Data and Goliath'}\n"
     ]
    }
   ],
   "source": [
    "# let's see one book without ISBN\n",
    "count = 0\n",
    "for doc in descriptions.find({'industryIdentifiers': {'$in': [None,'']}}).limit(1):\n",
    "    count += 1\n",
    "    print('\\n-----[ {} ]-----\\n'.format(count))\n",
    "    pprint(doc)"
   ]
  },
  {
   "cell_type": "code",
   "execution_count": 13,
   "metadata": {},
   "outputs": [
    {
     "data": {
      "text/plain": [
       "4065"
      ]
     },
     "execution_count": 13,
     "metadata": {},
     "output_type": "execute_result"
    }
   ],
   "source": [
    "# books with descriptions\n",
    "descriptions.find({'description': {'$nin': [None,'']}}).count()"
   ]
  },
  {
   "cell_type": "code",
   "execution_count": 17,
   "metadata": {},
   "outputs": [
    {
     "name": "stdout",
     "output_type": "stream",
     "text": [
      "\n",
      "-----[ 1 ]-----\n",
      "\n",
      "{'_id': ObjectId('5a97a1d84f61b6966baa0886'),\n",
      " 'allowAnonLogging': False,\n",
      " 'authors': ['Joseph J. Ellis'],\n",
      " 'averageRating': 4.0,\n",
      " 'canonicalVolumeLink': 'https://books.google.com/books/about/First_Family.html?hl=&id=SPBPyujwygIC',\n",
      " 'categories': ['Biography & Autobiography'],\n",
      " 'contentVersion': '1.1.0.0.preview.0',\n",
      " 'description': 'Presents a narrative profile of the second president and his '\n",
      "                'wife that traces their more than fifty-year partnership in '\n",
      "                'such areas as civic and foreign affairs.',\n",
      " 'imageLinks': {'smallThumbnail': 'http://books.google.com/books/content?id=SPBPyujwygIC&printsec=frontcover&img=1&zoom=5&source=gbs_api',\n",
      "                'thumbnail': 'http://books.google.com/books/content?id=SPBPyujwygIC&printsec=frontcover&img=1&zoom=1&source=gbs_api'},\n",
      " 'industryIdentifiers': [{'identifier': '9780307269621', 'type': 'ISBN_13'},\n",
      "                         {'identifier': '0307269620', 'type': 'ISBN_10'}],\n",
      " 'infoLink': 'http://books.google.com/books?id=SPBPyujwygIC&dq=isbn:9780307269621&hl=&source=gbs_api',\n",
      " 'language': 'en',\n",
      " 'maturityRating': 'NOT_MATURE',\n",
      " 'nyt_isbn13': '9780307269621',\n",
      " 'pageCount': 299,\n",
      " 'previewLink': 'http://books.google.com/books?id=SPBPyujwygIC&dq=isbn:9780307269621&hl=&cd=1&source=gbs_api',\n",
      " 'printType': 'BOOK',\n",
      " 'publishedDate': '2010',\n",
      " 'publisher': 'Knopf',\n",
      " 'ratingsCount': 5,\n",
      " 'readingModes': {'image': False, 'text': False},\n",
      " 'subtitle': 'Abigail and John',\n",
      " 'title': 'First Family'}\n"
     ]
    }
   ],
   "source": [
    "# let's see one book with description\n",
    "count = 0\n",
    "for doc in descriptions.find({'description': {'$nin': [None,'']}}).limit(1):\n",
    "    count += 1\n",
    "    print('\\n-----[ {} ]-----\\n'.format(count))\n",
    "    pprint(doc)"
   ]
  },
  {
   "cell_type": "code",
   "execution_count": 16,
   "metadata": {},
   "outputs": [
    {
     "name": "stdout",
     "output_type": "stream",
     "text": [
      "-----[ 1 ]-----\n",
      "[{'type': 'ISBN_13', 'identifier': '9780307269621'}, {'type': 'ISBN_10', 'identifier': '0307269620'}] \n",
      " Presents a narrative profile of the second president and his wife that traces their more than fifty-year partnership in such areas as civic and foreign affairs.\n",
      "-----[ 2 ]-----\n",
      "[{'type': 'ISBN_10', 'identifier': '1591845505'}, {'type': 'ISBN_13', 'identifier': '9781591845508'}] \n",
      " Presents a counterintuitive assessment of the financial crisis to identify what the author believes were its actual causes, outlining recommended changes for strengthening the nation's economy.\n",
      "-----[ 3 ]-----\n",
      "NO ISBN\n",
      " You are under surveillance right now. Your cell phone provider tracks your location and knows who’s with you. Your online and in-store purchasing patterns are recorded, and reveal if you're unemployed, sick, or pregnant. Your e-mails and texts expose your intimate and casual friends. Google knows what you’re thinking because it saves your private searches. Facebook can determine your sexual orientation without you ever mentioning it. The powers that surveil us do more than simply store this information. Corporations use surveillance to manipulate not only the news articles and advertisements we each see, but also the prices we’re offered. Governments use surveillance to discriminate, censor, chill free speech, and put people in danger worldwide. And both sides share this information with each other or, even worse, lose it to cybercriminals in huge data breaches. Much of this is voluntary: we cooperate with corporate surveillance because it promises us convenience, and we submit to government surveillance because it promises us protection. The result is a mass surveillance society of our own making. But have we given up more than we’ve gained? In Data and Goliath, security expert Bruce Schneier offers another path, one that values both security and privacy. He shows us exactly what we can do to reform our government surveillance programs and shake up surveillance-based business models, while also providing tips for you to protect your privacy every day. You'll never look at your phone, your computer, your credit cards, or even your car in the same way again.\n",
      "-----[ 4 ]-----\n",
      "NO ISBN\n",
      " Identifies the qualities of successful people, posing theories about the cultural, family, and idiosyncratic factors that shape high achievers, in a resource that covers such topics as the secrets of software billionaires and why the Beatles earned theirfame.\n",
      "-----[ 5 ]-----\n",
      "[{'type': 'ISBN_13', 'identifier': '9780547134666'}, {'type': 'ISBN_10', 'identifier': '0547134665'}] \n",
      " A journalist traces the story of his family's effort to rebuild an ancestral home in Lebanon amid political strife and how the work enabled a greater understanding of the emotions behind Middle East turbulence.\n"
     ]
    }
   ],
   "source": [
    "# get ISBNs and descriptions only from mongo documents\n",
    "count = 0\n",
    "for desc in descriptions.find({'description': {'$nin': [None,'']}},\n",
    "                              {'industryIdentifiers': 1, 'description': 1, '_id': 0}).limit(5):\n",
    "    count += 1\n",
    "    print('-----[ {} ]-----'.format(count))\n",
    "    if 'industryIdentifiers' in desc:\n",
    "        print(desc['industryIdentifiers'],'\\n',desc['description'])\n",
    "    else:\n",
    "        print('NO ISBN\\n',desc['description'])"
   ]
  },
  {
   "cell_type": "code",
   "execution_count": 15,
   "metadata": {},
   "outputs": [
    {
     "name": "stdout",
     "output_type": "stream",
     "text": [
      "google volumes with nyt isbn13: 439\n"
     ]
    }
   ],
   "source": [
    "# check if ISBNs from NYTimes API used to query Google Books API\n",
    "# are actually inside the returned book metadata from Google\n",
    "confirmed_isbn13 = []\n",
    "for desc in descriptions.find({'industryIdentifiers': {'$nin': [None,'']}},\n",
    "                              {'industryIdentifiers': 1, '_id': 0}):\n",
    "    if desc['industryIdentifiers'][0]['identifier'] in fiction_isbn13:\n",
    "        confirmed_isbn13.append(desc['industryIdentifiers'][0]['identifier'])\n",
    "print('google volumes with nyt isbn13:',len(confirmed_isbn13))"
   ]
  },
  {
   "cell_type": "markdown",
   "metadata": {},
   "source": [
    "- It appears that only half the ISBNs used to query Google Books API are actually inside the returned volume metadata\n",
    "- A workaround will be matching up the title/author from NYT API with Google Books API title/author\n",
    "- The more robust solution is to insert the ISBN used for querying Google inside the associated Mongo document"
   ]
  },
  {
   "cell_type": "code",
   "execution_count": 16,
   "metadata": {},
   "outputs": [
    {
     "data": {
      "text/plain": [
       "'9780316407021'"
      ]
     },
     "execution_count": 16,
     "metadata": {},
     "output_type": "execute_result"
    }
   ],
   "source": [
    "fiction_isbn13[0]"
   ]
  },
  {
   "cell_type": "code",
   "execution_count": 14,
   "metadata": {},
   "outputs": [
    {
     "name": "stdout",
     "output_type": "stream",
     "text": [
      "{'_id': ObjectId('5a97a1d84f61b6966baa0886'),\n",
      " 'allowAnonLogging': False,\n",
      " 'authors': ['Joseph J. Ellis'],\n",
      " 'averageRating': 4.0,\n",
      " 'canonicalVolumeLink': 'https://books.google.com/books/about/First_Family.html?hl=&id=SPBPyujwygIC',\n",
      " 'categories': ['Biography & Autobiography'],\n",
      " 'contentVersion': '1.1.0.0.preview.0',\n",
      " 'description': 'Presents a narrative profile of the second president and his '\n",
      "                'wife that traces their more than fifty-year partnership in '\n",
      "                'such areas as civic and foreign affairs.',\n",
      " 'imageLinks': {'smallThumbnail': 'http://books.google.com/books/content?id=SPBPyujwygIC&printsec=frontcover&img=1&zoom=5&source=gbs_api',\n",
      "                'thumbnail': 'http://books.google.com/books/content?id=SPBPyujwygIC&printsec=frontcover&img=1&zoom=1&source=gbs_api'},\n",
      " 'industryIdentifiers': [{'identifier': '9780307269621', 'type': 'ISBN_13'},\n",
      "                         {'identifier': '0307269620', 'type': 'ISBN_10'}],\n",
      " 'infoLink': 'http://books.google.com/books?id=SPBPyujwygIC&dq=isbn:9780307269621&hl=&source=gbs_api',\n",
      " 'language': 'en',\n",
      " 'maturityRating': 'NOT_MATURE',\n",
      " 'nyt_isbn13': '9780307269621',\n",
      " 'pageCount': 299,\n",
      " 'previewLink': 'http://books.google.com/books?id=SPBPyujwygIC&dq=isbn:9780307269621&hl=&cd=1&source=gbs_api',\n",
      " 'printType': 'BOOK',\n",
      " 'publishedDate': '2010',\n",
      " 'publisher': 'Knopf',\n",
      " 'ratingsCount': 5,\n",
      " 'readingModes': {'image': False, 'text': False},\n",
      " 'subtitle': 'Abigail and John',\n",
      " 'title': 'First Family'}\n"
     ]
    }
   ],
   "source": [
    "for desc in descriptions.find({'industryIdentifiers': {'$nin': [None,'']}}):\n",
    "    if desc['industryIdentifiers'][0]['identifier'] == hardcover_nonfiction_isbn13[0]:\n",
    "        book_id = desc['_id']\n",
    "        pprint(desc)"
   ]
  },
  {
   "cell_type": "markdown",
   "metadata": {},
   "source": [
    "## Upsert Mongo books with NYT ISBN\n",
    "For all books loaded into Mongo, upsert the original ISBN13 (or alternative below) into the record to facilitate matching of NYT and Google API metadata in Pandas."
   ]
  },
  {
   "cell_type": "code",
   "execution_count": 17,
   "metadata": {},
   "outputs": [
    {
     "name": "stdout",
     "output_type": "stream",
     "text": [
      "docs w/   nyt isbn13: 4112\n",
      "unique    nyt isbn13: 4101\n",
      "\n",
      "docs w/o  nyt isbn13: 3\n"
     ]
    }
   ],
   "source": [
    "print('docs w/   nyt isbn13:',descriptions.find({'nyt_isbn13': {'$nin': [None,'']}}).count())\n",
    "print('unique    nyt isbn13:',len(descriptions.distinct('nyt_isbn13')))\n",
    "print('\\ndocs w/o  nyt isbn13:',descriptions.find({'nyt_isbn13': {'$in': [None,'']}}).count())"
   ]
  },
  {
   "cell_type": "code",
   "execution_count": 55,
   "metadata": {},
   "outputs": [
    {
     "data": {
      "application/vnd.jupyter.widget-view+json": {
       "model_id": "c74f27515ada476aaebca62b58a9c669",
       "version_major": 2,
       "version_minor": 0
      },
      "text/html": [
       "<p>Failed to display Jupyter Widget of type <code>VBox</code>.</p>\n",
       "<p>\n",
       "  If you're reading this message in the Jupyter Notebook or JupyterLab Notebook, it may mean\n",
       "  that the widgets JavaScript is still loading. If this message persists, it\n",
       "  likely means that the widgets JavaScript library is either not installed or\n",
       "  not enabled. See the <a href=\"https://ipywidgets.readthedocs.io/en/stable/user_install.html\">Jupyter\n",
       "  Widgets Documentation</a> for setup instructions.\n",
       "</p>\n",
       "<p>\n",
       "  If you're reading this message in another frontend (for example, a static\n",
       "  rendering on GitHub or <a href=\"https://nbviewer.jupyter.org/\">NBViewer</a>),\n",
       "  it may mean that your frontend doesn't currently support widgets.\n",
       "</p>\n"
      ],
      "text/plain": [
       "VBox(children=(HTML(value=''), IntProgress(value=1, bar_style='info', max=1)))"
      ]
     },
     "metadata": {},
     "output_type": "display_data"
    }
   ],
   "source": [
    "for doc in log_progress(descriptions.find({'nyt_isbn13': {'$in': [None,'']}}), every=1):\n",
    "    book_id = doc['_id']\n",
    "    url = [item for item in doc['infoLink'].split('?')[1].split('&') if '=isbn:' in item]\n",
    "    if len(url) > 0:\n",
    "        isbn = url[0].split(':')[1]\n",
    "        isbn13_result = descriptions.update_one({'_id': book_id }, {'$set': {'nyt_isbn13': isbn}})"
   ]
  },
  {
   "cell_type": "markdown",
   "metadata": {},
   "source": [
    "## NYT Bestsellers \"Missing\" from Google Books API\n",
    "About 16% of the books from NYT's bestsellers lists are not found in Google Books API, using NYT's primary ISBN13 field for lookup. Alternatives include the primary ISBN10 or the list of other ISBNs for various print versions of the same book title. Identify the missing books by comparing records loaded into Mongo with the original primary ISBNs used to query Google, then pull alternative ISBNs from NYT weekly lists to try querying Google API again."
   ]
  },
  {
   "cell_type": "code",
   "execution_count": null,
   "metadata": {},
   "outputs": [],
   "source": []
  }
 ],
 "metadata": {
  "kernelspec": {
   "display_name": "Python 3",
   "language": "python",
   "name": "python3"
  },
  "language_info": {
   "codemirror_mode": {
    "name": "ipython",
    "version": 3
   },
   "file_extension": ".py",
   "mimetype": "text/x-python",
   "name": "python",
   "nbconvert_exporter": "python",
   "pygments_lexer": "ipython3",
   "version": "3.5.4"
  },
  "toc": {
   "nav_menu": {},
   "number_sections": true,
   "sideBar": true,
   "skip_h1_title": false,
   "title_cell": "Table of Contents",
   "title_sidebar": "Contents",
   "toc_cell": false,
   "toc_position": {},
   "toc_section_display": true,
   "toc_window_display": false
  }
 },
 "nbformat": 4,
 "nbformat_minor": 2
}
