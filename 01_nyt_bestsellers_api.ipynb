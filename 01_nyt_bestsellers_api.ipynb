{
 "cells": [
  {
   "cell_type": "markdown",
   "metadata": {},
   "source": [
    "# Imports"
   ]
  },
  {
   "cell_type": "code",
   "execution_count": 1,
   "metadata": {},
   "outputs": [],
   "source": [
    "import nytconfig\n",
    "import requests\n",
    "import pymongo\n",
    "from pprint import pprint\n",
    "import urllib.parse\n",
    "import time\n",
    "import datetime as dt\n",
    "import pickle\n",
    "import pandas as pd"
   ]
  },
  {
   "cell_type": "code",
   "execution_count": 2,
   "metadata": {},
   "outputs": [],
   "source": [
    "def log_progress(sequence, every=None, size=None, name='Items'):\n",
    "    from ipywidgets import IntProgress, HTML, VBox\n",
    "    from IPython.display import display\n",
    "\n",
    "    is_iterator = False\n",
    "    if size is None:\n",
    "        try:\n",
    "            size = len(sequence)\n",
    "        except TypeError:\n",
    "            is_iterator = True\n",
    "    if size is not None:\n",
    "        if every is None:\n",
    "            if size <= 200:\n",
    "                every = 1\n",
    "            else:\n",
    "                every = int(size / 200)     # every 0.5%\n",
    "    else:\n",
    "        assert every is not None, 'sequence is iterator, set every'\n",
    "\n",
    "    if is_iterator:\n",
    "        progress = IntProgress(min=0, max=1, value=1)\n",
    "        progress.bar_style = 'info'\n",
    "    else:\n",
    "        progress = IntProgress(min=0, max=size, value=0)\n",
    "    label = HTML()\n",
    "    box = VBox(children=[label, progress])\n",
    "    display(box)\n",
    "\n",
    "    index = 0\n",
    "    try:\n",
    "        for index, record in enumerate(sequence, 1):\n",
    "            if index == 1 or index % every == 0:\n",
    "                if is_iterator:\n",
    "                    label.value = '{name}: {index} / ?'.format(\n",
    "                        name=name,\n",
    "                        index=index\n",
    "                    )\n",
    "                else:\n",
    "                    progress.value = index\n",
    "                    label.value = u'{name}: {index} / {size}'.format(\n",
    "                        name=name,\n",
    "                        index=index,\n",
    "                        size=size\n",
    "                    )\n",
    "            yield record\n",
    "    except:\n",
    "        progress.bar_style = 'danger'\n",
    "        raise\n",
    "    else:\n",
    "        progress.bar_style = 'success'\n",
    "        progress.value = index\n",
    "        label.value = \"{name}: {index}\".format(\n",
    "            name=name,\n",
    "            index=str(index or '?')\n",
    "        )"
   ]
  },
  {
   "cell_type": "markdown",
   "metadata": {},
   "source": [
    "# Books on NYT Bestsellers Lists"
   ]
  },
  {
   "cell_type": "markdown",
   "metadata": {},
   "source": [
    "### Manual API request"
   ]
  },
  {
   "cell_type": "code",
   "execution_count": 3,
   "metadata": {},
   "outputs": [],
   "source": [
    "url_endpoint = 'https://api.nytimes.com/svc/books/v3/lists/names.json'\n",
    "mydict = {'api-key': nytconfig.key}\n",
    "resp = requests.get(url_endpoint, params=mydict)\n",
    "status = resp.status_code\n",
    "headers = resp.headers"
   ]
  },
  {
   "cell_type": "code",
   "execution_count": 4,
   "metadata": {},
   "outputs": [
    {
     "name": "stdout",
     "output_type": "stream",
     "text": [
      "200\n",
      "{'Access-Control-Allow-Headers': 'Accept, Content-Type, X-Forwarded-For, X-Prototype-Version, X-Requested-With', 'X-RateLimit-Limit-day': '1000', 'X-Varnish': '137423651', 'Access-Control-Allow-Origin': '*', 'Age': '0', 'Date': 'Sun, 04 Mar 2018 01:00:49 GMT', 'X-Kong-Proxy-Latency': '902', 'Accept-Ranges': 'bytes', 'Server': 'Apache/2.2.15 (CentOS)', 'X-RateLimit-Remaining-second': '4', 'Vary': 'Origin', 'Via': 'kong/0.9.5', 'Content-Length': '11208', 'X-Kong-Upstream-Latency': '152', 'Connection': 'keep-alive', 'Access-Control-Expose-Headers': 'Content-Length, X-JSON', 'X-RateLimit-Remaining-day': '994', 'Access-Control-Allow-Methods': 'GET, OPTIONS', 'Content-Type': 'application/json; charset=UTF-8', 'X-Cache': 'MISS', 'X-RateLimit-Limit-second': '5'}\n"
     ]
    }
   ],
   "source": [
    "print(status)\n",
    "print(headers)"
   ]
  },
  {
   "cell_type": "code",
   "execution_count": 3,
   "metadata": {},
   "outputs": [],
   "source": [
    "list_names = resp.json()"
   ]
  },
  {
   "cell_type": "code",
   "execution_count": 6,
   "metadata": {},
   "outputs": [
    {
     "data": {
      "text/plain": [
       "{'copyright': 'Copyright (c) 2018 The New York Times Company.  All Rights Reserved.',\n",
       " 'num_results': 53,\n",
       " 'results': [{'display_name': 'Combined Print & E-Book Fiction',\n",
       "   'list_name': 'Combined Print and E-Book Fiction',\n",
       "   'list_name_encoded': 'combined-print-and-e-book-fiction',\n",
       "   'newest_published_date': '2018-03-04',\n",
       "   'oldest_published_date': '2011-02-13',\n",
       "   'updated': 'WEEKLY'},\n",
       "  {'display_name': 'Combined Print & E-Book Nonfiction',\n",
       "   'list_name': 'Combined Print and E-Book Nonfiction',\n",
       "   'list_name_encoded': 'combined-print-and-e-book-nonfiction',\n",
       "   'newest_published_date': '2018-03-04',\n",
       "   'oldest_published_date': '2011-02-13',\n",
       "   'updated': 'WEEKLY'},\n",
       "  {'display_name': 'Hardcover Fiction',\n",
       "   'list_name': 'Hardcover Fiction',\n",
       "   'list_name_encoded': 'hardcover-fiction',\n",
       "   'newest_published_date': '2018-03-04',\n",
       "   'oldest_published_date': '2008-06-08',\n",
       "   'updated': 'WEEKLY'},\n",
       "  {'display_name': 'Hardcover Nonfiction',\n",
       "   'list_name': 'Hardcover Nonfiction',\n",
       "   'list_name_encoded': 'hardcover-nonfiction',\n",
       "   'newest_published_date': '2018-03-04',\n",
       "   'oldest_published_date': '2008-06-08',\n",
       "   'updated': 'WEEKLY'},\n",
       "  {'display_name': 'Paperback Trade Fiction',\n",
       "   'list_name': 'Trade Fiction Paperback',\n",
       "   'list_name_encoded': 'trade-fiction-paperback',\n",
       "   'newest_published_date': '2018-03-04',\n",
       "   'oldest_published_date': '2008-06-08',\n",
       "   'updated': 'WEEKLY'},\n",
       "  {'display_name': 'Paperback Mass-Market Fiction',\n",
       "   'list_name': 'Mass Market Paperback',\n",
       "   'list_name_encoded': 'mass-market-paperback',\n",
       "   'newest_published_date': '2017-01-29',\n",
       "   'oldest_published_date': '2008-06-08',\n",
       "   'updated': 'WEEKLY'},\n",
       "  {'display_name': 'Paperback Nonfiction',\n",
       "   'list_name': 'Paperback Nonfiction',\n",
       "   'list_name_encoded': 'paperback-nonfiction',\n",
       "   'newest_published_date': '2018-03-04',\n",
       "   'oldest_published_date': '2008-06-08',\n",
       "   'updated': 'WEEKLY'},\n",
       "  {'display_name': 'E-Book Fiction',\n",
       "   'list_name': 'E-Book Fiction',\n",
       "   'list_name_encoded': 'e-book-fiction',\n",
       "   'newest_published_date': '2017-01-29',\n",
       "   'oldest_published_date': '2011-02-13',\n",
       "   'updated': 'WEEKLY'},\n",
       "  {'display_name': 'E-Book Nonfiction',\n",
       "   'list_name': 'E-Book Nonfiction',\n",
       "   'list_name_encoded': 'e-book-nonfiction',\n",
       "   'newest_published_date': '2017-01-29',\n",
       "   'oldest_published_date': '2011-02-13',\n",
       "   'updated': 'WEEKLY'},\n",
       "  {'display_name': 'Hardcover Advice & Misc.',\n",
       "   'list_name': 'Hardcover Advice',\n",
       "   'list_name_encoded': 'hardcover-advice',\n",
       "   'newest_published_date': '2013-04-21',\n",
       "   'oldest_published_date': '2008-06-08',\n",
       "   'updated': 'WEEKLY'},\n",
       "  {'display_name': 'Paperback Advice & Misc.',\n",
       "   'list_name': 'Paperback Advice',\n",
       "   'list_name_encoded': 'paperback-advice',\n",
       "   'newest_published_date': '2013-04-21',\n",
       "   'oldest_published_date': '2008-06-08',\n",
       "   'updated': 'WEEKLY'},\n",
       "  {'display_name': 'Advice, How-To & Miscellaneous',\n",
       "   'list_name': 'Advice How-To and Miscellaneous',\n",
       "   'list_name_encoded': 'advice-how-to-and-miscellaneous',\n",
       "   'newest_published_date': '2018-03-04',\n",
       "   'oldest_published_date': '2013-04-28',\n",
       "   'updated': 'WEEKLY'},\n",
       "  {'display_name': 'Children’s Chapter Books',\n",
       "   'list_name': 'Chapter Books',\n",
       "   'list_name_encoded': 'chapter-books',\n",
       "   'newest_published_date': '2012-12-09',\n",
       "   'oldest_published_date': '2008-06-08',\n",
       "   'updated': 'WEEKLY'},\n",
       "  {'display_name': 'Children’s Middle Grade',\n",
       "   'list_name': 'Childrens Middle Grade',\n",
       "   'list_name_encoded': 'childrens-middle-grade',\n",
       "   'newest_published_date': '2015-08-23',\n",
       "   'oldest_published_date': '2012-12-16',\n",
       "   'updated': 'WEEKLY'},\n",
       "  {'display_name': 'Children’s Middle Grade E-Book',\n",
       "   'list_name': 'Childrens Middle Grade E-Book',\n",
       "   'list_name_encoded': 'childrens-middle-grade-e-book',\n",
       "   'newest_published_date': '2017-01-29',\n",
       "   'oldest_published_date': '2015-08-30',\n",
       "   'updated': 'WEEKLY'},\n",
       "  {'display_name': 'Children’s Middle Grade Hardcover',\n",
       "   'list_name': 'Childrens Middle Grade Hardcover',\n",
       "   'list_name_encoded': 'childrens-middle-grade-hardcover',\n",
       "   'newest_published_date': '2018-03-04',\n",
       "   'oldest_published_date': '2015-08-30',\n",
       "   'updated': 'WEEKLY'},\n",
       "  {'display_name': 'Children’s Middle Grade Paperback',\n",
       "   'list_name': 'Childrens Middle Grade Paperback',\n",
       "   'list_name_encoded': 'childrens-middle-grade-paperback',\n",
       "   'newest_published_date': '2017-01-29',\n",
       "   'oldest_published_date': '2015-08-30',\n",
       "   'updated': 'WEEKLY'},\n",
       "  {'display_name': 'Children’s Paperback Books',\n",
       "   'list_name': 'Paperback Books',\n",
       "   'list_name_encoded': 'paperback-books',\n",
       "   'newest_published_date': '2012-12-09',\n",
       "   'oldest_published_date': '2008-06-08',\n",
       "   'updated': 'WEEKLY'},\n",
       "  {'display_name': 'Children’s Picture Books',\n",
       "   'list_name': 'Picture Books',\n",
       "   'list_name_encoded': 'picture-books',\n",
       "   'newest_published_date': '2018-03-04',\n",
       "   'oldest_published_date': '2008-06-08',\n",
       "   'updated': 'WEEKLY'},\n",
       "  {'display_name': 'Children’s Series',\n",
       "   'list_name': 'Series Books',\n",
       "   'list_name_encoded': 'series-books',\n",
       "   'newest_published_date': '2018-03-04',\n",
       "   'oldest_published_date': '2008-06-08',\n",
       "   'updated': 'WEEKLY'},\n",
       "  {'display_name': 'Young Adult',\n",
       "   'list_name': 'Young Adult',\n",
       "   'list_name_encoded': 'young-adult',\n",
       "   'newest_published_date': '2015-08-23',\n",
       "   'oldest_published_date': '2012-12-16',\n",
       "   'updated': 'WEEKLY'},\n",
       "  {'display_name': 'Young Adult E-Book',\n",
       "   'list_name': 'Young Adult E-Book',\n",
       "   'list_name_encoded': 'young-adult-e-book',\n",
       "   'newest_published_date': '2017-01-29',\n",
       "   'oldest_published_date': '2015-08-30',\n",
       "   'updated': 'WEEKLY'},\n",
       "  {'display_name': 'Young Adult Hardcover',\n",
       "   'list_name': 'Young Adult Hardcover',\n",
       "   'list_name_encoded': 'young-adult-hardcover',\n",
       "   'newest_published_date': '2018-03-04',\n",
       "   'oldest_published_date': '2015-08-30',\n",
       "   'updated': 'WEEKLY'},\n",
       "  {'display_name': 'Young Adult Paperback',\n",
       "   'list_name': 'Young Adult Paperback',\n",
       "   'list_name_encoded': 'young-adult-paperback',\n",
       "   'newest_published_date': '2017-01-29',\n",
       "   'oldest_published_date': '2015-08-30',\n",
       "   'updated': 'WEEKLY'},\n",
       "  {'display_name': 'Hardcover Graphic Books',\n",
       "   'list_name': 'Hardcover Graphic Books',\n",
       "   'list_name_encoded': 'hardcover-graphic-books',\n",
       "   'newest_published_date': '2017-01-29',\n",
       "   'oldest_published_date': '2009-03-15',\n",
       "   'updated': 'WEEKLY'},\n",
       "  {'display_name': 'Paperback Graphic Books',\n",
       "   'list_name': 'Paperback Graphic Books',\n",
       "   'list_name_encoded': 'paperback-graphic-books',\n",
       "   'newest_published_date': '2017-01-29',\n",
       "   'oldest_published_date': '2009-03-15',\n",
       "   'updated': 'WEEKLY'},\n",
       "  {'display_name': 'Manga',\n",
       "   'list_name': 'Manga',\n",
       "   'list_name_encoded': 'manga',\n",
       "   'newest_published_date': '2017-01-29',\n",
       "   'oldest_published_date': '2009-03-15',\n",
       "   'updated': 'WEEKLY'},\n",
       "  {'display_name': 'Combined Hardcover & Paperback Fiction',\n",
       "   'list_name': 'Combined Print Fiction',\n",
       "   'list_name_encoded': 'combined-print-fiction',\n",
       "   'newest_published_date': '2013-05-12',\n",
       "   'oldest_published_date': '2011-02-13',\n",
       "   'updated': 'WEEKLY'},\n",
       "  {'display_name': 'Combined Hardcover & Paperback Nonfiction',\n",
       "   'list_name': 'Combined Print Nonfiction',\n",
       "   'list_name_encoded': 'combined-print-nonfiction',\n",
       "   'newest_published_date': '2013-05-12',\n",
       "   'oldest_published_date': '2011-02-13',\n",
       "   'updated': 'WEEKLY'},\n",
       "  {'display_name': 'Animals',\n",
       "   'list_name': 'Animals',\n",
       "   'list_name_encoded': 'animals',\n",
       "   'newest_published_date': '2017-01-15',\n",
       "   'oldest_published_date': '2014-09-07',\n",
       "   'updated': 'MONTHLY'},\n",
       "  {'display_name': 'Business',\n",
       "   'list_name': 'Business Books',\n",
       "   'list_name_encoded': 'business-books',\n",
       "   'newest_published_date': '2018-02-11',\n",
       "   'oldest_published_date': '2013-11-03',\n",
       "   'updated': 'MONTHLY'},\n",
       "  {'display_name': 'Celebrities',\n",
       "   'list_name': 'Celebrities',\n",
       "   'list_name_encoded': 'celebrities',\n",
       "   'newest_published_date': '2017-01-15',\n",
       "   'oldest_published_date': '2014-09-07',\n",
       "   'updated': 'MONTHLY'},\n",
       "  {'display_name': 'Crime and Punishment',\n",
       "   'list_name': 'Crime and Punishment',\n",
       "   'list_name_encoded': 'crime-and-punishment',\n",
       "   'newest_published_date': '2017-01-15',\n",
       "   'oldest_published_date': '2014-10-12',\n",
       "   'updated': 'MONTHLY'},\n",
       "  {'display_name': 'Culture',\n",
       "   'list_name': 'Culture',\n",
       "   'list_name_encoded': 'culture',\n",
       "   'newest_published_date': '2017-01-15',\n",
       "   'oldest_published_date': '2014-10-12',\n",
       "   'updated': 'MONTHLY'},\n",
       "  {'display_name': 'Education',\n",
       "   'list_name': 'Education',\n",
       "   'list_name_encoded': 'education',\n",
       "   'newest_published_date': '2017-01-15',\n",
       "   'oldest_published_date': '2014-10-12',\n",
       "   'updated': 'MONTHLY'},\n",
       "  {'display_name': 'Espionage',\n",
       "   'list_name': 'Espionage',\n",
       "   'list_name_encoded': 'espionage',\n",
       "   'newest_published_date': '2017-01-15',\n",
       "   'oldest_published_date': '2014-12-14',\n",
       "   'updated': 'MONTHLY'},\n",
       "  {'display_name': 'Expeditions',\n",
       "   'list_name': 'Expeditions Disasters and Adventures',\n",
       "   'list_name_encoded': 'expeditions-disasters-and-adventures',\n",
       "   'newest_published_date': '2017-01-15',\n",
       "   'oldest_published_date': '2014-12-14',\n",
       "   'updated': 'MONTHLY'},\n",
       "  {'display_name': 'Fashion, Manners and Customs',\n",
       "   'list_name': 'Fashion Manners and Customs',\n",
       "   'list_name_encoded': 'fashion-manners-and-customs',\n",
       "   'newest_published_date': '2017-01-15',\n",
       "   'oldest_published_date': '2014-10-12',\n",
       "   'updated': 'MONTHLY'},\n",
       "  {'display_name': 'Food and Diet',\n",
       "   'list_name': 'Food and Fitness',\n",
       "   'list_name_encoded': 'food-and-fitness',\n",
       "   'newest_published_date': '2017-01-15',\n",
       "   'oldest_published_date': '2013-09-01',\n",
       "   'updated': 'MONTHLY'},\n",
       "  {'display_name': 'Games and Activities',\n",
       "   'list_name': 'Games and Activities',\n",
       "   'list_name_encoded': 'games-and-activities',\n",
       "   'newest_published_date': '2017-01-15',\n",
       "   'oldest_published_date': '2014-10-12',\n",
       "   'updated': 'MONTHLY'},\n",
       "  {'display_name': 'Hardcover Business Books',\n",
       "   'list_name': 'Hardcover Business Books',\n",
       "   'list_name_encoded': 'hardcover-business-books',\n",
       "   'newest_published_date': '2013-10-13',\n",
       "   'oldest_published_date': '2011-07-03',\n",
       "   'updated': 'MONTHLY'},\n",
       "  {'display_name': 'Health',\n",
       "   'list_name': 'Health',\n",
       "   'list_name_encoded': 'health',\n",
       "   'newest_published_date': '2017-01-15',\n",
       "   'oldest_published_date': '2014-10-12',\n",
       "   'updated': 'MONTHLY'},\n",
       "  {'display_name': 'Humor',\n",
       "   'list_name': 'Humor',\n",
       "   'list_name_encoded': 'humor',\n",
       "   'newest_published_date': '2017-01-15',\n",
       "   'oldest_published_date': '2014-09-07',\n",
       "   'updated': 'MONTHLY'},\n",
       "  {'display_name': 'Indigenous Americans',\n",
       "   'list_name': 'Indigenous Americans',\n",
       "   'list_name_encoded': 'indigenous-americans',\n",
       "   'newest_published_date': '2016-01-10',\n",
       "   'oldest_published_date': '2014-12-14',\n",
       "   'updated': 'MONTHLY'},\n",
       "  {'display_name': 'Love and Relationships',\n",
       "   'list_name': 'Relationships',\n",
       "   'list_name_encoded': 'relationships',\n",
       "   'newest_published_date': '2017-01-15',\n",
       "   'oldest_published_date': '2014-09-07',\n",
       "   'updated': 'MONTHLY'},\n",
       "  {'display_name': 'Paperback Business Books',\n",
       "   'list_name': 'Paperback Business Books',\n",
       "   'list_name_encoded': 'paperback-business-books',\n",
       "   'newest_published_date': '2013-10-13',\n",
       "   'oldest_published_date': '2011-07-03',\n",
       "   'updated': 'MONTHLY'},\n",
       "  {'display_name': 'Parenthood and Family',\n",
       "   'list_name': 'Family',\n",
       "   'list_name_encoded': 'family',\n",
       "   'newest_published_date': '2017-01-15',\n",
       "   'oldest_published_date': '2014-09-07',\n",
       "   'updated': 'MONTHLY'},\n",
       "  {'display_name': 'Politics and American History',\n",
       "   'list_name': 'Hardcover Political Books',\n",
       "   'list_name_encoded': 'hardcover-political-books',\n",
       "   'newest_published_date': '2017-01-15',\n",
       "   'oldest_published_date': '2011-07-03',\n",
       "   'updated': 'MONTHLY'},\n",
       "  {'display_name': 'Race and Civil Rights',\n",
       "   'list_name': 'Race and Civil Rights',\n",
       "   'list_name_encoded': 'race-and-civil-rights',\n",
       "   'newest_published_date': '2017-01-15',\n",
       "   'oldest_published_date': '2014-12-14',\n",
       "   'updated': 'MONTHLY'},\n",
       "  {'display_name': 'Religion, Spirituality and Faith',\n",
       "   'list_name': 'Religion Spirituality and Faith',\n",
       "   'list_name_encoded': 'religion-spirituality-and-faith',\n",
       "   'newest_published_date': '2017-01-15',\n",
       "   'oldest_published_date': '2014-09-07',\n",
       "   'updated': 'MONTHLY'},\n",
       "  {'display_name': 'Science',\n",
       "   'list_name': 'Science',\n",
       "   'list_name_encoded': 'science',\n",
       "   'newest_published_date': '2018-02-11',\n",
       "   'oldest_published_date': '2013-04-14',\n",
       "   'updated': 'MONTHLY'},\n",
       "  {'display_name': 'Sports and Fitness',\n",
       "   'list_name': 'Sports',\n",
       "   'list_name_encoded': 'sports',\n",
       "   'newest_published_date': '2018-02-11',\n",
       "   'oldest_published_date': '2014-03-02',\n",
       "   'updated': 'MONTHLY'},\n",
       "  {'display_name': 'Travel',\n",
       "   'list_name': 'Travel',\n",
       "   'list_name_encoded': 'travel',\n",
       "   'newest_published_date': '2017-01-15',\n",
       "   'oldest_published_date': '2014-09-07',\n",
       "   'updated': 'MONTHLY'}],\n",
       " 'status': 'OK'}"
      ]
     },
     "execution_count": 6,
     "metadata": {},
     "output_type": "execute_result"
    }
   ],
   "source": [
    "list_names"
   ]
  },
  {
   "cell_type": "code",
   "execution_count": 7,
   "metadata": {},
   "outputs": [
    {
     "data": {
      "text/plain": [
       "53"
      ]
     },
     "execution_count": 7,
     "metadata": {},
     "output_type": "execute_result"
    }
   ],
   "source": [
    "len(list_names['results'])"
   ]
  },
  {
   "cell_type": "code",
   "execution_count": 8,
   "metadata": {},
   "outputs": [
    {
     "data": {
      "text/plain": [
       "{'display_name': 'Combined Print & E-Book Fiction',\n",
       " 'list_name': 'Combined Print and E-Book Fiction',\n",
       " 'list_name_encoded': 'combined-print-and-e-book-fiction',\n",
       " 'newest_published_date': '2018-03-04',\n",
       " 'oldest_published_date': '2011-02-13',\n",
       " 'updated': 'WEEKLY'}"
      ]
     },
     "execution_count": 8,
     "metadata": {},
     "output_type": "execute_result"
    }
   ],
   "source": [
    "list_names['results'][0]"
   ]
  },
  {
   "cell_type": "markdown",
   "metadata": {},
   "source": [
    "### MongoDB Connection"
   ]
  },
  {
   "cell_type": "code",
   "execution_count": 7,
   "metadata": {},
   "outputs": [],
   "source": [
    "# create database and collection for list overviews\n",
    "client = pymongo.MongoClient()\n",
    "db = client.bestsellers_lists\n",
    "lists = db.list_names"
   ]
  },
  {
   "cell_type": "code",
   "execution_count": 19,
   "metadata": {},
   "outputs": [
    {
     "data": {
      "text/plain": [
       "['admin', 'bestsellers_lists', 'config', 'local']"
      ]
     },
     "execution_count": 19,
     "metadata": {},
     "output_type": "execute_result"
    }
   ],
   "source": [
    "client.database_names()"
   ]
  },
  {
   "cell_type": "code",
   "execution_count": 20,
   "metadata": {},
   "outputs": [
    {
     "data": {
      "text/plain": [
       "['weekly_publications', 'descriptions', 'lists']"
      ]
     },
     "execution_count": 20,
     "metadata": {},
     "output_type": "execute_result"
    }
   ],
   "source": [
    "db.collection_names()"
   ]
  },
  {
   "cell_type": "markdown",
   "metadata": {},
   "source": [
    "### Add lists overview to Mongo"
   ]
  },
  {
   "cell_type": "code",
   "execution_count": 177,
   "metadata": {},
   "outputs": [],
   "source": [
    "# store json response of list names in new collection\n",
    "result = db.lists.insert_many([i for i in list_names['results']])"
   ]
  },
  {
   "cell_type": "code",
   "execution_count": 9,
   "metadata": {},
   "outputs": [
    {
     "data": {
      "text/plain": [
       "53"
      ]
     },
     "execution_count": 9,
     "metadata": {},
     "output_type": "execute_result"
    }
   ],
   "source": [
    "db.lists.count()"
   ]
  },
  {
   "cell_type": "code",
   "execution_count": 8,
   "metadata": {},
   "outputs": [
    {
     "data": {
      "text/plain": [
       "{'_id': ObjectId('5a9505434f61b659b444fc01'),\n",
       " 'display_name': 'Combined Print & E-Book Fiction',\n",
       " 'list_name': 'Combined Print and E-Book Fiction',\n",
       " 'list_name_encoded': 'combined-print-and-e-book-fiction',\n",
       " 'newest_published_date': '2018-03-04',\n",
       " 'oldest_published_date': '2011-02-13',\n",
       " 'updated': 'WEEKLY'}"
      ]
     },
     "execution_count": 8,
     "metadata": {},
     "output_type": "execute_result"
    }
   ],
   "source": [
    "db.lists.find_one()"
   ]
  },
  {
   "cell_type": "markdown",
   "metadata": {},
   "source": [
    "### Generate weekly lists to query by category"
   ]
  },
  {
   "cell_type": "code",
   "execution_count": 8,
   "metadata": {},
   "outputs": [
    {
     "name": "stdout",
     "output_type": "stream",
     "text": [
      "number of publications for combined-print-and-e-book-fiction: 369\n"
     ]
    }
   ],
   "source": [
    "# create a dictionary of all bestseller lists by category, from oldest to newest date\n",
    "d = dt.timedelta(days=7)\n",
    "weekly_lists = {}\n",
    "\n",
    "for document in db.lists.find({'updated': 'WEEKLY'}):\n",
    "    weekly_lists[document['list_name_encoded']] = [document['oldest_published_date']]\n",
    "    current_dt = dt.datetime.strptime(document['oldest_published_date'],'%Y-%m-%d')\n",
    "    newest_dt = dt.datetime.strptime(document['newest_published_date'],'%Y-%m-%d')\n",
    "    diff_dt = newest_dt - current_dt\n",
    "    diff_weeks = diff_dt.days//7\n",
    "    while current_dt < newest_dt:\n",
    "        current_dt += dt.timedelta(days=7)\n",
    "        weekly_lists[document['list_name_encoded']].append(current_dt.strftime('%Y-%m-%d'))\n",
    "print('number of publications for combined-print-and-e-book-fiction:',len(weekly_lists['combined-print-and-e-book-fiction']))"
   ]
  },
  {
   "cell_type": "code",
   "execution_count": 6,
   "metadata": {},
   "outputs": [
    {
     "data": {
      "text/plain": [
       "29"
      ]
     },
     "execution_count": 6,
     "metadata": {},
     "output_type": "execute_result"
    }
   ],
   "source": [
    "# number of list categories published weekly\n",
    "len(weekly_lists)"
   ]
  },
  {
   "cell_type": "code",
   "execution_count": 9,
   "metadata": {},
   "outputs": [
    {
     "data": {
      "text/plain": [
       "8422"
      ]
     },
     "execution_count": 9,
     "metadata": {},
     "output_type": "execute_result"
    }
   ],
   "source": [
    "# total number of weeks across all list categories\n",
    "sum(len(v) for v in weekly_lists.values())"
   ]
  },
  {
   "cell_type": "code",
   "execution_count": 13,
   "metadata": {},
   "outputs": [
    {
     "name": "stdout",
     "output_type": "stream",
     "text": [
      "870\n"
     ]
    }
   ],
   "source": [
    "# last 30 weeks only\n",
    "num_queries = 0\n",
    "dates = []\n",
    "for key in weekly_lists:\n",
    "    for value in weekly_lists[key][-30:]:\n",
    "        if value:\n",
    "            num_queries += 1\n",
    "print(num_queries)"
   ]
  },
  {
   "cell_type": "markdown",
   "metadata": {},
   "source": [
    "### Query a specific category of weekly lists across all dates"
   ]
  },
  {
   "cell_type": "code",
   "execution_count": 9,
   "metadata": {},
   "outputs": [],
   "source": [
    "weekly_publications = db.weekly_publications"
   ]
  },
  {
   "cell_type": "code",
   "execution_count": 24,
   "metadata": {},
   "outputs": [],
   "source": [
    "def get_weekly_publications_category(weekly_lists,category):\n",
    "    for value in log_progress(weekly_lists[category][:65], every=1): # already pulled last 35 weeks so stop before that\n",
    "        base = 'https://api.nytimes.com/svc/books/v3/lists.json?'\n",
    "        parameters = {'api-key': nytconfig.key, 'list': category, 'date': value}\n",
    "        url = base + urllib.parse.urlencode(parameters)\n",
    "        resp = requests.get(url)\n",
    "        status = resp.status_code\n",
    "        rate_left = int(resp.headers['X-RateLimit-Remaining-day'])\n",
    "        attempted = [i for i in resp.url.split('?')[1:][0].split('&') if 'api-key' not in i]\n",
    "        if status == 200:\n",
    "            publication_data = resp.json()\n",
    "            if publication_data['num_results'] > 0:\n",
    "                result = db.weekly_publications.insert_many([i for i in publication_data['results']])\n",
    "                print('Successfully Retrieved: {} Rate Left: {}'.format(attempted,rate_left))\n",
    "            else:\n",
    "                print('No Results, Skipped: {} Rate Left: {}'.format(attempted,rate_left))\n",
    "        else:\n",
    "            print('FAILED Status: {} Tried Retrieving: {}'.format(status,attempted))\n",
    "        #time.sleep(0.5)\n",
    "    return 'All done!'"
   ]
  },
  {
   "cell_type": "code",
   "execution_count": 25,
   "metadata": {
    "scrolled": true
   },
   "outputs": [
    {
     "data": {
      "application/vnd.jupyter.widget-view+json": {
       "model_id": "7e0d7e18cc1a4a0aaf5fecfdd1f3261c",
       "version_major": 2,
       "version_minor": 0
      },
      "text/html": [
       "<p>Failed to display Jupyter Widget of type <code>VBox</code>.</p>\n",
       "<p>\n",
       "  If you're reading this message in the Jupyter Notebook or JupyterLab Notebook, it may mean\n",
       "  that the widgets JavaScript is still loading. If this message persists, it\n",
       "  likely means that the widgets JavaScript library is either not installed or\n",
       "  not enabled. See the <a href=\"https://ipywidgets.readthedocs.io/en/stable/user_install.html\">Jupyter\n",
       "  Widgets Documentation</a> for setup instructions.\n",
       "</p>\n",
       "<p>\n",
       "  If you're reading this message in another frontend (for example, a static\n",
       "  rendering on GitHub or <a href=\"https://nbviewer.jupyter.org/\">NBViewer</a>),\n",
       "  it may mean that your frontend doesn't currently support widgets.\n",
       "</p>\n"
      ],
      "text/plain": [
       "VBox(children=(HTML(value=''), IntProgress(value=0, max=65)))"
      ]
     },
     "metadata": {},
     "output_type": "display_data"
    },
    {
     "name": "stdout",
     "output_type": "stream",
     "text": [
      "Successfully Retrieved: ['date=2009-03-15', 'list=manga'] Rate Left: 64\n",
      "Successfully Retrieved: ['date=2009-03-22', 'list=manga'] Rate Left: 63\n",
      "Successfully Retrieved: ['date=2009-03-29', 'list=manga'] Rate Left: 62\n",
      "Successfully Retrieved: ['date=2009-04-05', 'list=manga'] Rate Left: 61\n",
      "Successfully Retrieved: ['date=2009-04-12', 'list=manga'] Rate Left: 60\n",
      "Successfully Retrieved: ['date=2009-04-19', 'list=manga'] Rate Left: 59\n",
      "Successfully Retrieved: ['date=2009-04-26', 'list=manga'] Rate Left: 58\n",
      "Successfully Retrieved: ['date=2009-05-03', 'list=manga'] Rate Left: 57\n",
      "Successfully Retrieved: ['date=2009-05-10', 'list=manga'] Rate Left: 56\n",
      "Successfully Retrieved: ['date=2009-05-17', 'list=manga'] Rate Left: 55\n",
      "Successfully Retrieved: ['date=2009-05-24', 'list=manga'] Rate Left: 54\n",
      "Successfully Retrieved: ['date=2009-05-31', 'list=manga'] Rate Left: 53\n",
      "Successfully Retrieved: ['date=2009-06-07', 'list=manga'] Rate Left: 52\n",
      "Successfully Retrieved: ['date=2009-06-14', 'list=manga'] Rate Left: 51\n",
      "Successfully Retrieved: ['date=2009-06-21', 'list=manga'] Rate Left: 50\n",
      "Successfully Retrieved: ['date=2009-06-28', 'list=manga'] Rate Left: 49\n",
      "Successfully Retrieved: ['date=2009-07-05', 'list=manga'] Rate Left: 48\n",
      "Successfully Retrieved: ['date=2009-07-12', 'list=manga'] Rate Left: 47\n",
      "Successfully Retrieved: ['date=2009-07-19', 'list=manga'] Rate Left: 46\n",
      "Successfully Retrieved: ['date=2009-07-26', 'list=manga'] Rate Left: 45\n",
      "Successfully Retrieved: ['date=2009-08-02', 'list=manga'] Rate Left: 44\n",
      "Successfully Retrieved: ['date=2009-08-09', 'list=manga'] Rate Left: 43\n",
      "Successfully Retrieved: ['date=2009-08-16', 'list=manga'] Rate Left: 42\n",
      "Successfully Retrieved: ['date=2009-08-23', 'list=manga'] Rate Left: 41\n",
      "Successfully Retrieved: ['date=2009-08-30', 'list=manga'] Rate Left: 40\n",
      "Successfully Retrieved: ['date=2009-09-06', 'list=manga'] Rate Left: 39\n",
      "Successfully Retrieved: ['date=2009-09-13', 'list=manga'] Rate Left: 38\n",
      "Successfully Retrieved: ['date=2009-09-20', 'list=manga'] Rate Left: 37\n",
      "Successfully Retrieved: ['date=2009-09-27', 'list=manga'] Rate Left: 36\n",
      "Successfully Retrieved: ['date=2009-10-04', 'list=manga'] Rate Left: 35\n",
      "Successfully Retrieved: ['date=2009-10-11', 'list=manga'] Rate Left: 34\n",
      "Successfully Retrieved: ['date=2009-10-18', 'list=manga'] Rate Left: 33\n",
      "Successfully Retrieved: ['date=2009-10-25', 'list=manga'] Rate Left: 32\n",
      "Successfully Retrieved: ['date=2009-11-01', 'list=manga'] Rate Left: 31\n",
      "Successfully Retrieved: ['date=2009-11-08', 'list=manga'] Rate Left: 30\n",
      "Successfully Retrieved: ['date=2009-11-15', 'list=manga'] Rate Left: 29\n",
      "Successfully Retrieved: ['date=2009-11-22', 'list=manga'] Rate Left: 28\n",
      "Successfully Retrieved: ['date=2009-11-29', 'list=manga'] Rate Left: 27\n",
      "Successfully Retrieved: ['date=2009-12-06', 'list=manga'] Rate Left: 26\n",
      "Successfully Retrieved: ['date=2009-12-13', 'list=manga'] Rate Left: 25\n",
      "Successfully Retrieved: ['date=2009-12-20', 'list=manga'] Rate Left: 24\n",
      "Successfully Retrieved: ['date=2009-12-27', 'list=manga'] Rate Left: 23\n",
      "Successfully Retrieved: ['date=2010-01-03', 'list=manga'] Rate Left: 22\n",
      "Successfully Retrieved: ['date=2010-01-10', 'list=manga'] Rate Left: 21\n",
      "Successfully Retrieved: ['date=2010-01-17', 'list=manga'] Rate Left: 20\n",
      "Successfully Retrieved: ['date=2010-01-24', 'list=manga'] Rate Left: 19\n",
      "Successfully Retrieved: ['date=2010-01-31', 'list=manga'] Rate Left: 18\n",
      "Successfully Retrieved: ['date=2010-02-07', 'list=manga'] Rate Left: 17\n",
      "Successfully Retrieved: ['date=2010-02-14', 'list=manga'] Rate Left: 16\n",
      "Successfully Retrieved: ['date=2010-02-21', 'list=manga'] Rate Left: 15\n",
      "Successfully Retrieved: ['date=2010-02-28', 'list=manga'] Rate Left: 14\n",
      "Successfully Retrieved: ['date=2010-03-07', 'list=manga'] Rate Left: 13\n",
      "Successfully Retrieved: ['date=2010-03-14', 'list=manga'] Rate Left: 12\n",
      "Successfully Retrieved: ['date=2010-03-21', 'list=manga'] Rate Left: 11\n",
      "Successfully Retrieved: ['date=2010-03-28', 'list=manga'] Rate Left: 10\n",
      "Successfully Retrieved: ['date=2010-04-04', 'list=manga'] Rate Left: 9\n",
      "Successfully Retrieved: ['date=2010-04-11', 'list=manga'] Rate Left: 8\n",
      "Successfully Retrieved: ['date=2010-04-18', 'list=manga'] Rate Left: 7\n",
      "Successfully Retrieved: ['date=2010-04-25', 'list=manga'] Rate Left: 6\n",
      "Successfully Retrieved: ['date=2010-05-02', 'list=manga'] Rate Left: 5\n",
      "Successfully Retrieved: ['date=2010-05-09', 'list=manga'] Rate Left: 4\n",
      "Successfully Retrieved: ['date=2010-05-16', 'list=manga'] Rate Left: 3\n",
      "Successfully Retrieved: ['date=2010-05-23', 'list=manga'] Rate Left: 2\n",
      "Successfully Retrieved: ['date=2010-05-30', 'list=manga'] Rate Left: 1\n",
      "Successfully Retrieved: ['date=2010-06-06', 'list=manga'] Rate Left: 0\n"
     ]
    },
    {
     "data": {
      "text/plain": [
       "'All done!'"
      ]
     },
     "execution_count": 25,
     "metadata": {},
     "output_type": "execute_result"
    }
   ],
   "source": [
    "get_weekly_publications_category(weekly_lists,'manga')"
   ]
  },
  {
   "cell_type": "code",
   "execution_count": 21,
   "metadata": {},
   "outputs": [
    {
     "name": "stdout",
     "output_type": "stream",
     "text": [
      "array length: 62\n",
      "array items:\n",
      "['2013-10-20', '2013-10-27', '2013-11-03', '2013-11-10', '2013-11-17', '2013-11-24', '2013-12-01', '2013-12-08', '2013-12-15', '2013-12-22', '2013-12-29', '2014-01-05', '2014-01-12', '2014-01-19', '2014-01-26', '2014-02-02', '2014-02-09', '2014-02-16', '2014-02-23', '2014-03-02', '2014-03-09', '2014-03-16', '2014-03-23', '2014-03-30', '2014-04-06', '2014-04-13', '2014-04-20', '2014-04-27', '2014-05-04', '2014-05-11', '2014-05-18', '2014-05-25', '2014-06-01', '2014-06-08', '2014-06-15', '2014-06-22', '2014-06-29', '2014-07-06', '2014-07-13', '2014-07-20', '2014-07-27', '2014-08-03', '2014-08-10', '2014-08-17', '2014-08-24', '2014-08-31', '2014-09-07', '2014-09-14', '2014-09-21', '2014-09-28', '2014-10-05', '2014-10-12', '2014-10-19', '2014-10-26', '2014-11-02', '2014-11-09', '2014-11-16', '2014-11-23', '2014-11-30', '2014-12-07', '2014-12-14', '2014-12-21']\n"
     ]
    }
   ],
   "source": [
    "item = weekly_lists['childrens-middle-grade'][45:-35]\n",
    "print('array length: {}'.format(len(item)))\n",
    "print('array items:\\n{}'.format(item))"
   ]
  },
  {
   "cell_type": "code",
   "execution_count": 27,
   "metadata": {},
   "outputs": [
    {
     "name": "stdout",
     "output_type": "stream",
     "text": [
      "books added to collection: 110475\n",
      "unique books by title: 10811\n"
     ]
    }
   ],
   "source": [
    "print('books added to collection:',weekly_publications.count())\n",
    "print('unique books by title:',len(weekly_publications.distinct('book_details.title')))"
   ]
  },
  {
   "cell_type": "code",
   "execution_count": 7,
   "metadata": {},
   "outputs": [
    {
     "name": "stdout",
     "output_type": "stream",
     "text": [
      "[[509, 'trade-fiction-paperback'],\n",
      " [509, 'series-books'],\n",
      " [509, 'picture-books'],\n",
      " [509, 'paperback-nonfiction'],\n",
      " [509, 'hardcover-nonfiction'],\n",
      " [509, 'hardcover-fiction'],\n",
      " [452, 'mass-market-paperback'],\n",
      " [412, 'paperback-graphic-books'],\n",
      " [412, 'manga'],\n",
      " [412, 'hardcover-graphic-books'],\n",
      " [369, 'combined-print-and-e-book-nonfiction'],\n",
      " [369, 'combined-print-and-e-book-fiction'],\n",
      " [312, 'e-book-nonfiction'],\n",
      " [312, 'e-book-fiction'],\n",
      " [255, 'paperback-advice'],\n",
      " [255, 'hardcover-advice'],\n",
      " [254, 'advice-how-to-and-miscellaneous'],\n",
      " [236, 'paperback-books'],\n",
      " [236, 'chapter-books'],\n",
      " [141, 'young-adult'],\n",
      " [141, 'childrens-middle-grade'],\n",
      " [132, 'young-adult-hardcover'],\n",
      " [132, 'childrens-middle-grade-hardcover'],\n",
      " [118, 'combined-print-nonfiction'],\n",
      " [118, 'combined-print-fiction'],\n",
      " [75, 'young-adult-paperback'],\n",
      " [75, 'young-adult-e-book'],\n",
      " [75, 'childrens-middle-grade-paperback'],\n",
      " [75, 'childrens-middle-grade-e-book']]\n"
     ]
    }
   ],
   "source": [
    "### be mindful of how many weeks to grab per category\n",
    "weeks = []\n",
    "for key in weekly_lists:\n",
    "    temp = [len(weekly_lists[key]),key]\n",
    "    weeks.append(temp)\n",
    "pprint(sorted(weeks, reverse=True))"
   ]
  },
  {
   "cell_type": "markdown",
   "metadata": {},
   "source": [
    "### Get unique ISBNs from books"
   ]
  },
  {
   "cell_type": "code",
   "execution_count": 26,
   "metadata": {},
   "outputs": [
    {
     "data": {
      "text/html": [
       "<div>\n",
       "<style scoped>\n",
       "    .dataframe tbody tr th:only-of-type {\n",
       "        vertical-align: middle;\n",
       "    }\n",
       "\n",
       "    .dataframe tbody tr th {\n",
       "        vertical-align: top;\n",
       "    }\n",
       "\n",
       "    .dataframe thead th {\n",
       "        text-align: right;\n",
       "    }\n",
       "</style>\n",
       "<table border=\"1\" class=\"dataframe\">\n",
       "  <thead>\n",
       "    <tr style=\"text-align: right;\">\n",
       "      <th></th>\n",
       "      <th>_id</th>\n",
       "      <th>count</th>\n",
       "    </tr>\n",
       "  </thead>\n",
       "  <tbody>\n",
       "    <tr>\n",
       "      <th>5</th>\n",
       "      <td>Hardcover Fiction</td>\n",
       "      <td>9895</td>\n",
       "    </tr>\n",
       "    <tr>\n",
       "      <th>0</th>\n",
       "      <td>Hardcover Nonfiction</td>\n",
       "      <td>9875</td>\n",
       "    </tr>\n",
       "    <tr>\n",
       "      <th>10</th>\n",
       "      <td>Paperback Nonfiction</td>\n",
       "      <td>9215</td>\n",
       "    </tr>\n",
       "    <tr>\n",
       "      <th>18</th>\n",
       "      <td>Trade Fiction Paperback</td>\n",
       "      <td>9215</td>\n",
       "    </tr>\n",
       "    <tr>\n",
       "      <th>27</th>\n",
       "      <td>Mass Market Paperback</td>\n",
       "      <td>8645</td>\n",
       "    </tr>\n",
       "    <tr>\n",
       "      <th>11</th>\n",
       "      <td>Combined Print and E-Book Fiction</td>\n",
       "      <td>7095</td>\n",
       "    </tr>\n",
       "    <tr>\n",
       "      <th>14</th>\n",
       "      <td>Combined Print and E-Book Nonfiction</td>\n",
       "      <td>7095</td>\n",
       "    </tr>\n",
       "    <tr>\n",
       "      <th>13</th>\n",
       "      <td>E-Book Nonfiction</td>\n",
       "      <td>5865</td>\n",
       "    </tr>\n",
       "    <tr>\n",
       "      <th>21</th>\n",
       "      <td>E-Book Fiction</td>\n",
       "      <td>5865</td>\n",
       "    </tr>\n",
       "    <tr>\n",
       "      <th>23</th>\n",
       "      <td>Picture Books</td>\n",
       "      <td>5080</td>\n",
       "    </tr>\n",
       "    <tr>\n",
       "      <th>15</th>\n",
       "      <td>Series Books</td>\n",
       "      <td>5080</td>\n",
       "    </tr>\n",
       "    <tr>\n",
       "      <th>22</th>\n",
       "      <td>Advice How-To and Miscellaneous</td>\n",
       "      <td>4135</td>\n",
       "    </tr>\n",
       "    <tr>\n",
       "      <th>2</th>\n",
       "      <td>Hardcover Graphic Books</td>\n",
       "      <td>4119</td>\n",
       "    </tr>\n",
       "    <tr>\n",
       "      <th>17</th>\n",
       "      <td>Paperback Graphic Books</td>\n",
       "      <td>4119</td>\n",
       "    </tr>\n",
       "    <tr>\n",
       "      <th>7</th>\n",
       "      <td>Paperback Advice</td>\n",
       "      <td>3810</td>\n",
       "    </tr>\n",
       "    <tr>\n",
       "      <th>6</th>\n",
       "      <td>Hardcover Advice</td>\n",
       "      <td>3810</td>\n",
       "    </tr>\n",
       "    <tr>\n",
       "      <th>20</th>\n",
       "      <td>Combined Print Fiction</td>\n",
       "      <td>2360</td>\n",
       "    </tr>\n",
       "    <tr>\n",
       "      <th>4</th>\n",
       "      <td>Combined Print Nonfiction</td>\n",
       "      <td>2360</td>\n",
       "    </tr>\n",
       "    <tr>\n",
       "      <th>25</th>\n",
       "      <td>Chapter Books</td>\n",
       "      <td>2350</td>\n",
       "    </tr>\n",
       "    <tr>\n",
       "      <th>28</th>\n",
       "      <td>Paperback Books</td>\n",
       "      <td>2347</td>\n",
       "    </tr>\n",
       "    <tr>\n",
       "      <th>12</th>\n",
       "      <td>Young Adult</td>\n",
       "      <td>2115</td>\n",
       "    </tr>\n",
       "    <tr>\n",
       "      <th>26</th>\n",
       "      <td>Childrens Middle Grade</td>\n",
       "      <td>2115</td>\n",
       "    </tr>\n",
       "    <tr>\n",
       "      <th>8</th>\n",
       "      <td>Young Adult Hardcover</td>\n",
       "      <td>1320</td>\n",
       "    </tr>\n",
       "    <tr>\n",
       "      <th>16</th>\n",
       "      <td>Manga</td>\n",
       "      <td>1000</td>\n",
       "    </tr>\n",
       "    <tr>\n",
       "      <th>19</th>\n",
       "      <td>Childrens Middle Grade Paperback</td>\n",
       "      <td>750</td>\n",
       "    </tr>\n",
       "    <tr>\n",
       "      <th>9</th>\n",
       "      <td>Young Adult Paperback</td>\n",
       "      <td>750</td>\n",
       "    </tr>\n",
       "    <tr>\n",
       "      <th>1</th>\n",
       "      <td>Young Adult E-Book</td>\n",
       "      <td>375</td>\n",
       "    </tr>\n",
       "    <tr>\n",
       "      <th>24</th>\n",
       "      <td>Childrens Middle Grade Hardcover</td>\n",
       "      <td>350</td>\n",
       "    </tr>\n",
       "    <tr>\n",
       "      <th>3</th>\n",
       "      <td>Childrens Middle Grade E-Book</td>\n",
       "      <td>175</td>\n",
       "    </tr>\n",
       "  </tbody>\n",
       "</table>\n",
       "</div>"
      ],
      "text/plain": [
       "                                     _id  count\n",
       "5                      Hardcover Fiction   9895\n",
       "0                   Hardcover Nonfiction   9875\n",
       "10                  Paperback Nonfiction   9215\n",
       "18               Trade Fiction Paperback   9215\n",
       "27                 Mass Market Paperback   8645\n",
       "11     Combined Print and E-Book Fiction   7095\n",
       "14  Combined Print and E-Book Nonfiction   7095\n",
       "13                     E-Book Nonfiction   5865\n",
       "21                        E-Book Fiction   5865\n",
       "23                         Picture Books   5080\n",
       "15                          Series Books   5080\n",
       "22       Advice How-To and Miscellaneous   4135\n",
       "2                Hardcover Graphic Books   4119\n",
       "17               Paperback Graphic Books   4119\n",
       "7                       Paperback Advice   3810\n",
       "6                       Hardcover Advice   3810\n",
       "20                Combined Print Fiction   2360\n",
       "4              Combined Print Nonfiction   2360\n",
       "25                         Chapter Books   2350\n",
       "28                       Paperback Books   2347\n",
       "12                           Young Adult   2115\n",
       "26                Childrens Middle Grade   2115\n",
       "8                  Young Adult Hardcover   1320\n",
       "16                                 Manga   1000\n",
       "19      Childrens Middle Grade Paperback    750\n",
       "9                  Young Adult Paperback    750\n",
       "1                     Young Adult E-Book    375\n",
       "24      Childrens Middle Grade Hardcover    350\n",
       "3          Childrens Middle Grade E-Book    175"
      ]
     },
     "execution_count": 26,
     "metadata": {},
     "output_type": "execute_result"
    }
   ],
   "source": [
    "list_names = []\n",
    "for item in weekly_publications.aggregate([{'$group' : {'_id':'$list_name', 'count':{'$sum':1}}}]):\n",
    "    list_names.append(item)\n",
    "df_lists = pd.DataFrame(list_names).sort_values('count',ascending=False)\n",
    "df_lists"
   ]
  },
  {
   "cell_type": "code",
   "execution_count": 27,
   "metadata": {},
   "outputs": [
    {
     "data": {
      "text/plain": [
       "46305"
      ]
     },
     "execution_count": 27,
     "metadata": {},
     "output_type": "execute_result"
    }
   ],
   "source": [
    "weekly_publications.find({ '$or': [{'list_name': 'Paperback Books'}, \n",
    "                                   {'list_name': 'Combined Print Nonfiction'}, \n",
    "                                   {'list_name': 'Combined Print Fiction'}, \n",
    "                                   {'list_name': 'E-Book Nonfiction'}, \n",
    "                                   {'list_name': 'E-Book Fiction'}, \n",
    "                                   {'list_name': 'Combined Print and E-Book Nonfiction'}, \n",
    "                                   {'list_name': 'Combined Print and E-Book Fiction'}, \n",
    "                                   {'list_name': 'Hardcover Graphic Books'}, \n",
    "                                   {'list_name': 'Paperback Graphic Books'}, \n",
    "                                   {'list_name': 'Series Books'}]}\n",
    "                        ).count()"
   ]
  },
  {
   "cell_type": "code",
   "execution_count": 28,
   "metadata": {},
   "outputs": [
    {
     "name": "stdout",
     "output_type": "stream",
     "text": [
      "unique ISBNs for chosen category: 8322\n",
      "['9780062371904',\n",
      " '9780393609394',\n",
      " '9780062000125',\n",
      " '9780785131700',\n",
      " '9780345521316']\n"
     ]
    }
   ],
   "source": [
    "category_isbn13 = weekly_publications.find(\n",
    "    { '$and': [{'book_details.primary_isbn13': {'$nin': [None,'']}},\n",
    "               { '$or': [{'list_name': 'Paperback Books'}, \n",
    "                                   {'list_name': 'Combined Print Nonfiction'}, \n",
    "                                   {'list_name': 'Combined Print Fiction'}, \n",
    "                                   {'list_name': 'E-Book Nonfiction'}, \n",
    "                                   {'list_name': 'E-Book Fiction'}, \n",
    "                                   {'list_name': 'Combined Print and E-Book Nonfiction'}, \n",
    "                                   {'list_name': 'Combined Print and E-Book Fiction'}, \n",
    "                                   {'list_name': 'Hardcover Graphic Books'}, \n",
    "                                   {'list_name': 'Paperback Graphic Books'}, \n",
    "                                   {'list_name': 'Series Books'}]}\n",
    "              ]}, \n",
    "    {'book_details.primary_isbn13': 1})\n",
    "\n",
    "category_isbn13_list = []\n",
    "for doc in category_isbn13:\n",
    "    category_isbn13_list.append(doc['book_details'][0]['primary_isbn13'])\n",
    "\n",
    "category_isbn13_list = list(set(category_isbn13_list))\n",
    "\n",
    "print('unique ISBNs for chosen category:',len(category_isbn13_list))\n",
    "pprint(category_isbn13_list[:5])"
   ]
  },
  {
   "cell_type": "markdown",
   "metadata": {},
   "source": [
    "### Pickle unique ISBNs for Google Books API queries"
   ]
  },
  {
   "cell_type": "code",
   "execution_count": 29,
   "metadata": {},
   "outputs": [],
   "source": [
    "with open('adult_isbn13_8322.pkl', 'wb') as f:\n",
    "    pickle.dump(category_isbn13_list, f)"
   ]
  },
  {
   "cell_type": "code",
   "execution_count": null,
   "metadata": {},
   "outputs": [],
   "source": []
  }
 ],
 "metadata": {
  "kernelspec": {
   "display_name": "Python 3",
   "language": "python",
   "name": "python3"
  },
  "language_info": {
   "codemirror_mode": {
    "name": "ipython",
    "version": 3
   },
   "file_extension": ".py",
   "mimetype": "text/x-python",
   "name": "python",
   "nbconvert_exporter": "python",
   "pygments_lexer": "ipython3",
   "version": "3.5.4"
  },
  "toc": {
   "nav_menu": {},
   "number_sections": true,
   "sideBar": true,
   "skip_h1_title": false,
   "title_cell": "Table of Contents",
   "title_sidebar": "Contents",
   "toc_cell": false,
   "toc_position": {},
   "toc_section_display": true,
   "toc_window_display": false
  }
 },
 "nbformat": 4,
 "nbformat_minor": 2
}
